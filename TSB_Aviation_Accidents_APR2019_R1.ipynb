{
 "cells": [
  {
   "cell_type": "markdown",
   "metadata": {},
   "source": [
    "### Read and explore the datasets"
   ]
  },
  {
   "cell_type": "code",
   "execution_count": 1,
   "metadata": {},
   "outputs": [],
   "source": [
    "import pandas as pd\n",
    "import numpy as np\n",
    "import matplotlib.pyplot as plt\n",
    "import quilt\n",
    "import seaborn as sns\n",
    "import missingno as msno\n",
    "import plotly.offline\n",
    "import plotly_express as px\n",
    "import warnings\n",
    "warnings.filterwarnings('ignore')\n",
    "\n",
    "#pip install cufflinks\n",
    "#pip install plotly_express\n",
    "# import cufflinks\n",
    "#cufflinks.__version__\n",
    "#pip install cufflinks --upgrade\n",
    "#pip install python-quilt\n",
    "#import geopandas as gp\n",
    "#pip install missingno"
   ]
  },
  {
   "cell_type": "code",
   "execution_count": 2,
   "metadata": {},
   "outputs": [],
   "source": [
    "#Read datasets, no description available. ALl files available at \n",
    "# http://www.tsb.gc.ca/eng/stats/aviation/data-5.html. Adding conditions as warning\n",
    "# received: Columns (+30 in total)have mixed types. Specify dtype option on \n",
    "# import or set low_memory=False.\n",
    "\n",
    "\n",
    "df1 = pd.read_csv('ASISdb_MDOTW_VW_OCCURRENCE_PUBLIC.csv') \n",
    "#                   sep=',', error_bad_lines=False, index_col=False, dtype='unicode')\n",
    "df2 = pd.read_csv('ASISdb_MDOTW_VW_AIRCRAFT_PUBLIC.csv')\n",
    "#                  sep=',', error_bad_lines=False, index_col=False, dtype='unicode')\n",
    "#df3 = pd.read_csv('ASISdb_MDOTW_VW_EVENTS_AND_PHASES_PUBLIC.csv')\n",
    "#df4 = pd.read_csv('ASISdb_MDOTW_VW_EVENTS_AND_PHASES_PUBLIC.csv')"
   ]
  },
  {
   "cell_type": "code",
   "execution_count": 3,
   "metadata": {},
   "outputs": [
    {
     "data": {
      "text/html": [
       "<div>\n",
       "<style scoped>\n",
       "    .dataframe tbody tr th:only-of-type {\n",
       "        vertical-align: middle;\n",
       "    }\n",
       "\n",
       "    .dataframe tbody tr th {\n",
       "        vertical-align: top;\n",
       "    }\n",
       "\n",
       "    .dataframe thead th {\n",
       "        text-align: right;\n",
       "    }\n",
       "</style>\n",
       "<table border=\"1\" class=\"dataframe\">\n",
       "  <thead>\n",
       "    <tr style=\"text-align: right;\">\n",
       "      <th></th>\n",
       "      <th>OccID</th>\n",
       "      <th>OccNo</th>\n",
       "      <th>AirportID</th>\n",
       "      <th>AirportID_AirportName</th>\n",
       "      <th>AirportID_CountryID</th>\n",
       "      <th>AirportID_CountryID_DisplayEng</th>\n",
       "      <th>AirportID_CountryID_DisplayFre</th>\n",
       "      <th>Airport_ProvinceID</th>\n",
       "      <th>AirportID_ProvinceID_DisplayEng</th>\n",
       "      <th>AirportID_ProvinceID_DisplayFre</th>\n",
       "      <th>...</th>\n",
       "      <th>InitialPositionEnum_DisplayFre</th>\n",
       "      <th>FinalPositionEnum</th>\n",
       "      <th>FinalPositionEnum_DisplayEng</th>\n",
       "      <th>FinalPositionEnum_DisplayFre</th>\n",
       "      <th>FullProcedureIND</th>\n",
       "      <th>FullProcedureIND_DisplayEng</th>\n",
       "      <th>FullProcedureIND_DisplayFre</th>\n",
       "      <th>SurfaceContaminationID</th>\n",
       "      <th>SurfaceContaminationID_DisplayEng</th>\n",
       "      <th>SurfaceContaminationID_DisplayFre</th>\n",
       "    </tr>\n",
       "  </thead>\n",
       "  <tbody>\n",
       "    <tr>\n",
       "      <th>0</th>\n",
       "      <td>152828</td>\n",
       "      <td>A19P0071</td>\n",
       "      <td>1984.0</td>\n",
       "      <td>Erik Nielsen Intl</td>\n",
       "      <td>2.0</td>\n",
       "      <td>CANADA</td>\n",
       "      <td>CANADA</td>\n",
       "      <td>24.0</td>\n",
       "      <td>YUKON</td>\n",
       "      <td>YUKON</td>\n",
       "      <td>...</td>\n",
       "      <td>NaN</td>\n",
       "      <td>NaN</td>\n",
       "      <td>NaN</td>\n",
       "      <td>NaN</td>\n",
       "      <td>NaN</td>\n",
       "      <td>NaN</td>\n",
       "      <td>NaN</td>\n",
       "      <td>NaN</td>\n",
       "      <td>NaN</td>\n",
       "      <td>NaN</td>\n",
       "    </tr>\n",
       "    <tr>\n",
       "      <th>1</th>\n",
       "      <td>152827</td>\n",
       "      <td>A19W0070</td>\n",
       "      <td>1984.0</td>\n",
       "      <td>Erik Nielsen Intl</td>\n",
       "      <td>2.0</td>\n",
       "      <td>CANADA</td>\n",
       "      <td>CANADA</td>\n",
       "      <td>24.0</td>\n",
       "      <td>YUKON</td>\n",
       "      <td>YUKON</td>\n",
       "      <td>...</td>\n",
       "      <td>NaN</td>\n",
       "      <td>NaN</td>\n",
       "      <td>NaN</td>\n",
       "      <td>NaN</td>\n",
       "      <td>NaN</td>\n",
       "      <td>NaN</td>\n",
       "      <td>NaN</td>\n",
       "      <td>NaN</td>\n",
       "      <td>NaN</td>\n",
       "      <td>NaN</td>\n",
       "    </tr>\n",
       "    <tr>\n",
       "      <th>2</th>\n",
       "      <td>152827</td>\n",
       "      <td>A19W0070</td>\n",
       "      <td>1984.0</td>\n",
       "      <td>Erik Nielsen Intl</td>\n",
       "      <td>2.0</td>\n",
       "      <td>CANADA</td>\n",
       "      <td>CANADA</td>\n",
       "      <td>24.0</td>\n",
       "      <td>YUKON</td>\n",
       "      <td>YUKON</td>\n",
       "      <td>...</td>\n",
       "      <td>NaN</td>\n",
       "      <td>NaN</td>\n",
       "      <td>NaN</td>\n",
       "      <td>NaN</td>\n",
       "      <td>NaN</td>\n",
       "      <td>NaN</td>\n",
       "      <td>NaN</td>\n",
       "      <td>NaN</td>\n",
       "      <td>NaN</td>\n",
       "      <td>NaN</td>\n",
       "    </tr>\n",
       "    <tr>\n",
       "      <th>3</th>\n",
       "      <td>152826</td>\n",
       "      <td>A19P0070</td>\n",
       "      <td>109.0</td>\n",
       "      <td>(CAMPBELL ISLAND)</td>\n",
       "      <td>2.0</td>\n",
       "      <td>CANADA</td>\n",
       "      <td>CANADA</td>\n",
       "      <td>12.0</td>\n",
       "      <td>BRITISH COLUMBIA</td>\n",
       "      <td>COLOMBIE-BRITANNIQUE</td>\n",
       "      <td>...</td>\n",
       "      <td>NaN</td>\n",
       "      <td>NaN</td>\n",
       "      <td>NaN</td>\n",
       "      <td>NaN</td>\n",
       "      <td>NaN</td>\n",
       "      <td>NaN</td>\n",
       "      <td>NaN</td>\n",
       "      <td>NaN</td>\n",
       "      <td>NaN</td>\n",
       "      <td>NaN</td>\n",
       "    </tr>\n",
       "    <tr>\n",
       "      <th>4</th>\n",
       "      <td>152825</td>\n",
       "      <td>A19P0069</td>\n",
       "      <td>1912.0</td>\n",
       "      <td>Vancouver Intl</td>\n",
       "      <td>2.0</td>\n",
       "      <td>CANADA</td>\n",
       "      <td>CANADA</td>\n",
       "      <td>12.0</td>\n",
       "      <td>BRITISH COLUMBIA</td>\n",
       "      <td>COLOMBIE-BRITANNIQUE</td>\n",
       "      <td>...</td>\n",
       "      <td>NaN</td>\n",
       "      <td>NaN</td>\n",
       "      <td>NaN</td>\n",
       "      <td>NaN</td>\n",
       "      <td>NaN</td>\n",
       "      <td>NaN</td>\n",
       "      <td>NaN</td>\n",
       "      <td>NaN</td>\n",
       "      <td>NaN</td>\n",
       "      <td>NaN</td>\n",
       "    </tr>\n",
       "  </tbody>\n",
       "</table>\n",
       "<p>5 rows × 246 columns</p>\n",
       "</div>"
      ],
      "text/plain": [
       "    OccID     OccNo  AirportID AirportID_AirportName  AirportID_CountryID  \\\n",
       "0  152828  A19P0071     1984.0     Erik Nielsen Intl                  2.0   \n",
       "1  152827  A19W0070     1984.0     Erik Nielsen Intl                  2.0   \n",
       "2  152827  A19W0070     1984.0     Erik Nielsen Intl                  2.0   \n",
       "3  152826  A19P0070      109.0     (CAMPBELL ISLAND)                  2.0   \n",
       "4  152825  A19P0069     1912.0        Vancouver Intl                  2.0   \n",
       "\n",
       "  AirportID_CountryID_DisplayEng AirportID_CountryID_DisplayFre  \\\n",
       "0                         CANADA                         CANADA   \n",
       "1                         CANADA                         CANADA   \n",
       "2                         CANADA                         CANADA   \n",
       "3                         CANADA                         CANADA   \n",
       "4                         CANADA                         CANADA   \n",
       "\n",
       "   Airport_ProvinceID AirportID_ProvinceID_DisplayEng  \\\n",
       "0                24.0                           YUKON   \n",
       "1                24.0                           YUKON   \n",
       "2                24.0                           YUKON   \n",
       "3                12.0                BRITISH COLUMBIA   \n",
       "4                12.0                BRITISH COLUMBIA   \n",
       "\n",
       "  AirportID_ProvinceID_DisplayFre  ... InitialPositionEnum_DisplayFre  \\\n",
       "0                           YUKON  ...                            NaN   \n",
       "1                           YUKON  ...                            NaN   \n",
       "2                           YUKON  ...                            NaN   \n",
       "3            COLOMBIE-BRITANNIQUE  ...                            NaN   \n",
       "4            COLOMBIE-BRITANNIQUE  ...                            NaN   \n",
       "\n",
       "   FinalPositionEnum  FinalPositionEnum_DisplayEng  \\\n",
       "0                NaN                           NaN   \n",
       "1                NaN                           NaN   \n",
       "2                NaN                           NaN   \n",
       "3                NaN                           NaN   \n",
       "4                NaN                           NaN   \n",
       "\n",
       "  FinalPositionEnum_DisplayFre FullProcedureIND  FullProcedureIND_DisplayEng  \\\n",
       "0                          NaN              NaN                          NaN   \n",
       "1                          NaN              NaN                          NaN   \n",
       "2                          NaN              NaN                          NaN   \n",
       "3                          NaN              NaN                          NaN   \n",
       "4                          NaN              NaN                          NaN   \n",
       "\n",
       "   FullProcedureIND_DisplayFre SurfaceContaminationID  \\\n",
       "0                          NaN                    NaN   \n",
       "1                          NaN                    NaN   \n",
       "2                          NaN                    NaN   \n",
       "3                          NaN                    NaN   \n",
       "4                          NaN                    NaN   \n",
       "\n",
       "  SurfaceContaminationID_DisplayEng SurfaceContaminationID_DisplayFre  \n",
       "0                               NaN                               NaN  \n",
       "1                               NaN                               NaN  \n",
       "2                               NaN                               NaN  \n",
       "3                               NaN                               NaN  \n",
       "4                               NaN                               NaN  \n",
       "\n",
       "[5 rows x 246 columns]"
      ]
     },
     "execution_count": 3,
     "metadata": {},
     "output_type": "execute_result"
    }
   ],
   "source": [
    "df1.head()"
   ]
  },
  {
   "cell_type": "code",
   "execution_count": 4,
   "metadata": {},
   "outputs": [],
   "source": [
    "#Rename occid\n",
    "\n",
    "df2 = df2.rename(index=str, columns={\"occid\": \"OccID\"})"
   ]
  },
  {
   "cell_type": "code",
   "execution_count": 5,
   "metadata": {},
   "outputs": [
    {
     "data": {
      "text/plain": [
       "(57227, 194)"
      ]
     },
     "execution_count": 5,
     "metadata": {},
     "output_type": "execute_result"
    }
   ],
   "source": [
    "df2.shape"
   ]
  },
  {
   "cell_type": "code",
   "execution_count": 6,
   "metadata": {
    "scrolled": true
   },
   "outputs": [
    {
     "data": {
      "text/html": [
       "<div>\n",
       "<style scoped>\n",
       "    .dataframe tbody tr th:only-of-type {\n",
       "        vertical-align: middle;\n",
       "    }\n",
       "\n",
       "    .dataframe tbody tr th {\n",
       "        vertical-align: top;\n",
       "    }\n",
       "\n",
       "    .dataframe thead th {\n",
       "        text-align: right;\n",
       "    }\n",
       "</style>\n",
       "<table border=\"1\" class=\"dataframe\">\n",
       "  <thead>\n",
       "    <tr style=\"text-align: right;\">\n",
       "      <th></th>\n",
       "      <th>OccID</th>\n",
       "      <th>OccNo</th>\n",
       "      <th>AcID</th>\n",
       "      <th>AircraftID</th>\n",
       "      <th>AircraftVersion</th>\n",
       "      <th>RowStatus</th>\n",
       "      <th>RegistrationNo</th>\n",
       "      <th>SerialNo</th>\n",
       "      <th>AircraftTypeID</th>\n",
       "      <th>AircraftTypeID_DisplayEng</th>\n",
       "      <th>...</th>\n",
       "      <th>ReqSepTime</th>\n",
       "      <th>ActualSepHorizontal</th>\n",
       "      <th>ActualSepHorizontalEnum</th>\n",
       "      <th>ActualSepHorizontalEnum_DisplayEng</th>\n",
       "      <th>ActualSepHorizontalEnum_DisplayFre</th>\n",
       "      <th>ActualSepVertical</th>\n",
       "      <th>ActualSepTime</th>\n",
       "      <th>AtsUnitInvolvedEnum</th>\n",
       "      <th>AtsUnitInvolvedEnum_DisplayEng</th>\n",
       "      <th>AtsUnitInvolvedEnum_DisplayFre</th>\n",
       "    </tr>\n",
       "  </thead>\n",
       "  <tbody>\n",
       "    <tr>\n",
       "      <th>0</th>\n",
       "      <td>152828</td>\n",
       "      <td>A19P0071</td>\n",
       "      <td>43955</td>\n",
       "      <td>106710</td>\n",
       "      <td>9.0</td>\n",
       "      <td>1</td>\n",
       "      <td>C-GJAZ</td>\n",
       "      <td>15036</td>\n",
       "      <td>1.0</td>\n",
       "      <td>AEROPLANE</td>\n",
       "      <td>...</td>\n",
       "      <td>NaN</td>\n",
       "      <td>NaN</td>\n",
       "      <td>NaN</td>\n",
       "      <td>NaN</td>\n",
       "      <td>NaN</td>\n",
       "      <td>NaN</td>\n",
       "      <td>NaN</td>\n",
       "      <td>NaN</td>\n",
       "      <td>NaN</td>\n",
       "      <td>NaN</td>\n",
       "    </tr>\n",
       "    <tr>\n",
       "      <th>1</th>\n",
       "      <td>152827</td>\n",
       "      <td>A19W0070</td>\n",
       "      <td>67261</td>\n",
       "      <td>131335</td>\n",
       "      <td>2.0</td>\n",
       "      <td>1</td>\n",
       "      <td>C-FANF</td>\n",
       "      <td>27417</td>\n",
       "      <td>1.0</td>\n",
       "      <td>AEROPLANE</td>\n",
       "      <td>...</td>\n",
       "      <td>NaN</td>\n",
       "      <td>NaN</td>\n",
       "      <td>NaN</td>\n",
       "      <td>NaN</td>\n",
       "      <td>NaN</td>\n",
       "      <td>NaN</td>\n",
       "      <td>NaN</td>\n",
       "      <td>NaN</td>\n",
       "      <td>NaN</td>\n",
       "      <td>NaN</td>\n",
       "    </tr>\n",
       "    <tr>\n",
       "      <th>2</th>\n",
       "      <td>152826</td>\n",
       "      <td>A19P0070</td>\n",
       "      <td>67259</td>\n",
       "      <td>131334</td>\n",
       "      <td>2.0</td>\n",
       "      <td>1</td>\n",
       "      <td>C-FQNG</td>\n",
       "      <td>61032</td>\n",
       "      <td>3.0</td>\n",
       "      <td>HELICOPTER</td>\n",
       "      <td>...</td>\n",
       "      <td>NaN</td>\n",
       "      <td>NaN</td>\n",
       "      <td>NaN</td>\n",
       "      <td>NaN</td>\n",
       "      <td>NaN</td>\n",
       "      <td>NaN</td>\n",
       "      <td>NaN</td>\n",
       "      <td>NaN</td>\n",
       "      <td>NaN</td>\n",
       "      <td>NaN</td>\n",
       "    </tr>\n",
       "    <tr>\n",
       "      <th>3</th>\n",
       "      <td>152825</td>\n",
       "      <td>A19P0069</td>\n",
       "      <td>65985</td>\n",
       "      <td>130580</td>\n",
       "      <td>2.0</td>\n",
       "      <td>1</td>\n",
       "      <td>N403UA</td>\n",
       "      <td>442</td>\n",
       "      <td>1.0</td>\n",
       "      <td>AEROPLANE</td>\n",
       "      <td>...</td>\n",
       "      <td>NaN</td>\n",
       "      <td>NaN</td>\n",
       "      <td>NaN</td>\n",
       "      <td>NaN</td>\n",
       "      <td>NaN</td>\n",
       "      <td>NaN</td>\n",
       "      <td>NaN</td>\n",
       "      <td>NaN</td>\n",
       "      <td>NaN</td>\n",
       "      <td>NaN</td>\n",
       "    </tr>\n",
       "    <tr>\n",
       "      <th>4</th>\n",
       "      <td>152822</td>\n",
       "      <td>A19C0063</td>\n",
       "      <td>43825</td>\n",
       "      <td>106425</td>\n",
       "      <td>2.0</td>\n",
       "      <td>1</td>\n",
       "      <td>C-FARE</td>\n",
       "      <td>53112</td>\n",
       "      <td>3.0</td>\n",
       "      <td>HELICOPTER</td>\n",
       "      <td>...</td>\n",
       "      <td>NaN</td>\n",
       "      <td>NaN</td>\n",
       "      <td>NaN</td>\n",
       "      <td>NaN</td>\n",
       "      <td>NaN</td>\n",
       "      <td>NaN</td>\n",
       "      <td>NaN</td>\n",
       "      <td>NaN</td>\n",
       "      <td>NaN</td>\n",
       "      <td>NaN</td>\n",
       "    </tr>\n",
       "  </tbody>\n",
       "</table>\n",
       "<p>5 rows × 194 columns</p>\n",
       "</div>"
      ],
      "text/plain": [
       "    OccID     OccNo   AcID  AircraftID  AircraftVersion  RowStatus  \\\n",
       "0  152828  A19P0071  43955      106710              9.0          1   \n",
       "1  152827  A19W0070  67261      131335              2.0          1   \n",
       "2  152826  A19P0070  67259      131334              2.0          1   \n",
       "3  152825  A19P0069  65985      130580              2.0          1   \n",
       "4  152822  A19C0063  43825      106425              2.0          1   \n",
       "\n",
       "  RegistrationNo SerialNo  AircraftTypeID AircraftTypeID_DisplayEng  ...  \\\n",
       "0         C-GJAZ    15036             1.0                 AEROPLANE  ...   \n",
       "1         C-FANF    27417             1.0                 AEROPLANE  ...   \n",
       "2         C-FQNG    61032             3.0                HELICOPTER  ...   \n",
       "3         N403UA      442             1.0                 AEROPLANE  ...   \n",
       "4         C-FARE    53112             3.0                HELICOPTER  ...   \n",
       "\n",
       "  ReqSepTime  ActualSepHorizontal ActualSepHorizontalEnum  \\\n",
       "0        NaN                  NaN                     NaN   \n",
       "1        NaN                  NaN                     NaN   \n",
       "2        NaN                  NaN                     NaN   \n",
       "3        NaN                  NaN                     NaN   \n",
       "4        NaN                  NaN                     NaN   \n",
       "\n",
       "  ActualSepHorizontalEnum_DisplayEng  ActualSepHorizontalEnum_DisplayFre  \\\n",
       "0                                NaN                                 NaN   \n",
       "1                                NaN                                 NaN   \n",
       "2                                NaN                                 NaN   \n",
       "3                                NaN                                 NaN   \n",
       "4                                NaN                                 NaN   \n",
       "\n",
       "  ActualSepVertical ActualSepTime AtsUnitInvolvedEnum  \\\n",
       "0               NaN           NaN                 NaN   \n",
       "1               NaN           NaN                 NaN   \n",
       "2               NaN           NaN                 NaN   \n",
       "3               NaN           NaN                 NaN   \n",
       "4               NaN           NaN                 NaN   \n",
       "\n",
       "   AtsUnitInvolvedEnum_DisplayEng AtsUnitInvolvedEnum_DisplayFre  \n",
       "0                             NaN                            NaN  \n",
       "1                             NaN                            NaN  \n",
       "2                             NaN                            NaN  \n",
       "3                             NaN                            NaN  \n",
       "4                             NaN                            NaN  \n",
       "\n",
       "[5 rows x 194 columns]"
      ]
     },
     "execution_count": 6,
     "metadata": {},
     "output_type": "execute_result"
    }
   ],
   "source": [
    "df2.head()"
   ]
  },
  {
   "cell_type": "code",
   "execution_count": 7,
   "metadata": {},
   "outputs": [
    {
     "data": {
      "text/plain": [
       "Index(['OccID', 'OccNo', 'AcID', 'AircraftID', 'AircraftVersion', 'RowStatus',\n",
       "       'RegistrationNo', 'SerialNo', 'AircraftTypeID',\n",
       "       'AircraftTypeID_DisplayEng',\n",
       "       ...\n",
       "       'ReqSepTime', 'ActualSepHorizontal', 'ActualSepHorizontalEnum',\n",
       "       'ActualSepHorizontalEnum_DisplayEng',\n",
       "       'ActualSepHorizontalEnum_DisplayFre', 'ActualSepVertical',\n",
       "       'ActualSepTime', 'AtsUnitInvolvedEnum',\n",
       "       'AtsUnitInvolvedEnum_DisplayEng', 'AtsUnitInvolvedEnum_DisplayFre'],\n",
       "      dtype='object', length=194)"
      ]
     },
     "execution_count": 7,
     "metadata": {},
     "output_type": "execute_result"
    }
   ],
   "source": [
    "df2.columns"
   ]
  },
  {
   "cell_type": "code",
   "execution_count": 8,
   "metadata": {},
   "outputs": [
    {
     "name": "stdout",
     "output_type": "stream",
     "text": [
      "<class 'pandas.core.frame.DataFrame'>\n",
      "Index: 57227 entries, 0 to 57226\n",
      "Columns: 194 entries, OccID to AtsUnitInvolvedEnum_DisplayFre\n",
      "dtypes: float64(79), int64(4), object(111)\n",
      "memory usage: 85.1+ MB\n"
     ]
    }
   ],
   "source": [
    "df2.info()"
   ]
  },
  {
   "cell_type": "code",
   "execution_count": 9,
   "metadata": {},
   "outputs": [
    {
     "name": "stdout",
     "output_type": "stream",
     "text": [
      "43854\n"
     ]
    }
   ],
   "source": [
    "df2u = df2.OccID.nunique()\n",
    "print (df2u)"
   ]
  },
  {
   "cell_type": "code",
   "execution_count": 10,
   "metadata": {
    "scrolled": true
   },
   "outputs": [],
   "source": [
    "# df1_.reset_index().drop_duplicates().set_index(['OccId']) Doesn't work!"
   ]
  },
  {
   "cell_type": "code",
   "execution_count": 11,
   "metadata": {},
   "outputs": [
    {
     "data": {
      "text/plain": [
       "(47226, 246)"
      ]
     },
     "execution_count": 11,
     "metadata": {},
     "output_type": "execute_result"
    }
   ],
   "source": [
    "df1.shape"
   ]
  },
  {
   "cell_type": "code",
   "execution_count": 12,
   "metadata": {},
   "outputs": [
    {
     "data": {
      "text/html": [
       "<div>\n",
       "<style scoped>\n",
       "    .dataframe tbody tr th:only-of-type {\n",
       "        vertical-align: middle;\n",
       "    }\n",
       "\n",
       "    .dataframe tbody tr th {\n",
       "        vertical-align: top;\n",
       "    }\n",
       "\n",
       "    .dataframe thead th {\n",
       "        text-align: right;\n",
       "    }\n",
       "</style>\n",
       "<table border=\"1\" class=\"dataframe\">\n",
       "  <thead>\n",
       "    <tr style=\"text-align: right;\">\n",
       "      <th></th>\n",
       "      <th>OccID</th>\n",
       "      <th>OccNo</th>\n",
       "      <th>AirportID</th>\n",
       "      <th>AirportID_AirportName</th>\n",
       "      <th>AirportID_CountryID</th>\n",
       "      <th>AirportID_CountryID_DisplayEng</th>\n",
       "      <th>AirportID_CountryID_DisplayFre</th>\n",
       "      <th>Airport_ProvinceID</th>\n",
       "      <th>AirportID_ProvinceID_DisplayEng</th>\n",
       "      <th>AirportID_ProvinceID_DisplayFre</th>\n",
       "      <th>...</th>\n",
       "      <th>InitialPositionEnum_DisplayFre</th>\n",
       "      <th>FinalPositionEnum</th>\n",
       "      <th>FinalPositionEnum_DisplayEng</th>\n",
       "      <th>FinalPositionEnum_DisplayFre</th>\n",
       "      <th>FullProcedureIND</th>\n",
       "      <th>FullProcedureIND_DisplayEng</th>\n",
       "      <th>FullProcedureIND_DisplayFre</th>\n",
       "      <th>SurfaceContaminationID</th>\n",
       "      <th>SurfaceContaminationID_DisplayEng</th>\n",
       "      <th>SurfaceContaminationID_DisplayFre</th>\n",
       "    </tr>\n",
       "  </thead>\n",
       "  <tbody>\n",
       "    <tr>\n",
       "      <th>0</th>\n",
       "      <td>152828</td>\n",
       "      <td>A19P0071</td>\n",
       "      <td>1984.0</td>\n",
       "      <td>Erik Nielsen Intl</td>\n",
       "      <td>2.0</td>\n",
       "      <td>CANADA</td>\n",
       "      <td>CANADA</td>\n",
       "      <td>24.0</td>\n",
       "      <td>YUKON</td>\n",
       "      <td>YUKON</td>\n",
       "      <td>...</td>\n",
       "      <td>NaN</td>\n",
       "      <td>NaN</td>\n",
       "      <td>NaN</td>\n",
       "      <td>NaN</td>\n",
       "      <td>NaN</td>\n",
       "      <td>NaN</td>\n",
       "      <td>NaN</td>\n",
       "      <td>NaN</td>\n",
       "      <td>NaN</td>\n",
       "      <td>NaN</td>\n",
       "    </tr>\n",
       "    <tr>\n",
       "      <th>1</th>\n",
       "      <td>152827</td>\n",
       "      <td>A19W0070</td>\n",
       "      <td>1984.0</td>\n",
       "      <td>Erik Nielsen Intl</td>\n",
       "      <td>2.0</td>\n",
       "      <td>CANADA</td>\n",
       "      <td>CANADA</td>\n",
       "      <td>24.0</td>\n",
       "      <td>YUKON</td>\n",
       "      <td>YUKON</td>\n",
       "      <td>...</td>\n",
       "      <td>NaN</td>\n",
       "      <td>NaN</td>\n",
       "      <td>NaN</td>\n",
       "      <td>NaN</td>\n",
       "      <td>NaN</td>\n",
       "      <td>NaN</td>\n",
       "      <td>NaN</td>\n",
       "      <td>NaN</td>\n",
       "      <td>NaN</td>\n",
       "      <td>NaN</td>\n",
       "    </tr>\n",
       "    <tr>\n",
       "      <th>2</th>\n",
       "      <td>152827</td>\n",
       "      <td>A19W0070</td>\n",
       "      <td>1984.0</td>\n",
       "      <td>Erik Nielsen Intl</td>\n",
       "      <td>2.0</td>\n",
       "      <td>CANADA</td>\n",
       "      <td>CANADA</td>\n",
       "      <td>24.0</td>\n",
       "      <td>YUKON</td>\n",
       "      <td>YUKON</td>\n",
       "      <td>...</td>\n",
       "      <td>NaN</td>\n",
       "      <td>NaN</td>\n",
       "      <td>NaN</td>\n",
       "      <td>NaN</td>\n",
       "      <td>NaN</td>\n",
       "      <td>NaN</td>\n",
       "      <td>NaN</td>\n",
       "      <td>NaN</td>\n",
       "      <td>NaN</td>\n",
       "      <td>NaN</td>\n",
       "    </tr>\n",
       "    <tr>\n",
       "      <th>3</th>\n",
       "      <td>152826</td>\n",
       "      <td>A19P0070</td>\n",
       "      <td>109.0</td>\n",
       "      <td>(CAMPBELL ISLAND)</td>\n",
       "      <td>2.0</td>\n",
       "      <td>CANADA</td>\n",
       "      <td>CANADA</td>\n",
       "      <td>12.0</td>\n",
       "      <td>BRITISH COLUMBIA</td>\n",
       "      <td>COLOMBIE-BRITANNIQUE</td>\n",
       "      <td>...</td>\n",
       "      <td>NaN</td>\n",
       "      <td>NaN</td>\n",
       "      <td>NaN</td>\n",
       "      <td>NaN</td>\n",
       "      <td>NaN</td>\n",
       "      <td>NaN</td>\n",
       "      <td>NaN</td>\n",
       "      <td>NaN</td>\n",
       "      <td>NaN</td>\n",
       "      <td>NaN</td>\n",
       "    </tr>\n",
       "    <tr>\n",
       "      <th>4</th>\n",
       "      <td>152825</td>\n",
       "      <td>A19P0069</td>\n",
       "      <td>1912.0</td>\n",
       "      <td>Vancouver Intl</td>\n",
       "      <td>2.0</td>\n",
       "      <td>CANADA</td>\n",
       "      <td>CANADA</td>\n",
       "      <td>12.0</td>\n",
       "      <td>BRITISH COLUMBIA</td>\n",
       "      <td>COLOMBIE-BRITANNIQUE</td>\n",
       "      <td>...</td>\n",
       "      <td>NaN</td>\n",
       "      <td>NaN</td>\n",
       "      <td>NaN</td>\n",
       "      <td>NaN</td>\n",
       "      <td>NaN</td>\n",
       "      <td>NaN</td>\n",
       "      <td>NaN</td>\n",
       "      <td>NaN</td>\n",
       "      <td>NaN</td>\n",
       "      <td>NaN</td>\n",
       "    </tr>\n",
       "  </tbody>\n",
       "</table>\n",
       "<p>5 rows × 246 columns</p>\n",
       "</div>"
      ],
      "text/plain": [
       "    OccID     OccNo  AirportID AirportID_AirportName  AirportID_CountryID  \\\n",
       "0  152828  A19P0071     1984.0     Erik Nielsen Intl                  2.0   \n",
       "1  152827  A19W0070     1984.0     Erik Nielsen Intl                  2.0   \n",
       "2  152827  A19W0070     1984.0     Erik Nielsen Intl                  2.0   \n",
       "3  152826  A19P0070      109.0     (CAMPBELL ISLAND)                  2.0   \n",
       "4  152825  A19P0069     1912.0        Vancouver Intl                  2.0   \n",
       "\n",
       "  AirportID_CountryID_DisplayEng AirportID_CountryID_DisplayFre  \\\n",
       "0                         CANADA                         CANADA   \n",
       "1                         CANADA                         CANADA   \n",
       "2                         CANADA                         CANADA   \n",
       "3                         CANADA                         CANADA   \n",
       "4                         CANADA                         CANADA   \n",
       "\n",
       "   Airport_ProvinceID AirportID_ProvinceID_DisplayEng  \\\n",
       "0                24.0                           YUKON   \n",
       "1                24.0                           YUKON   \n",
       "2                24.0                           YUKON   \n",
       "3                12.0                BRITISH COLUMBIA   \n",
       "4                12.0                BRITISH COLUMBIA   \n",
       "\n",
       "  AirportID_ProvinceID_DisplayFre  ... InitialPositionEnum_DisplayFre  \\\n",
       "0                           YUKON  ...                            NaN   \n",
       "1                           YUKON  ...                            NaN   \n",
       "2                           YUKON  ...                            NaN   \n",
       "3            COLOMBIE-BRITANNIQUE  ...                            NaN   \n",
       "4            COLOMBIE-BRITANNIQUE  ...                            NaN   \n",
       "\n",
       "   FinalPositionEnum  FinalPositionEnum_DisplayEng  \\\n",
       "0                NaN                           NaN   \n",
       "1                NaN                           NaN   \n",
       "2                NaN                           NaN   \n",
       "3                NaN                           NaN   \n",
       "4                NaN                           NaN   \n",
       "\n",
       "  FinalPositionEnum_DisplayFre FullProcedureIND  FullProcedureIND_DisplayEng  \\\n",
       "0                          NaN              NaN                          NaN   \n",
       "1                          NaN              NaN                          NaN   \n",
       "2                          NaN              NaN                          NaN   \n",
       "3                          NaN              NaN                          NaN   \n",
       "4                          NaN              NaN                          NaN   \n",
       "\n",
       "   FullProcedureIND_DisplayFre SurfaceContaminationID  \\\n",
       "0                          NaN                    NaN   \n",
       "1                          NaN                    NaN   \n",
       "2                          NaN                    NaN   \n",
       "3                          NaN                    NaN   \n",
       "4                          NaN                    NaN   \n",
       "\n",
       "  SurfaceContaminationID_DisplayEng SurfaceContaminationID_DisplayFre  \n",
       "0                               NaN                               NaN  \n",
       "1                               NaN                               NaN  \n",
       "2                               NaN                               NaN  \n",
       "3                               NaN                               NaN  \n",
       "4                               NaN                               NaN  \n",
       "\n",
       "[5 rows x 246 columns]"
      ]
     },
     "execution_count": 12,
     "metadata": {},
     "output_type": "execute_result"
    }
   ],
   "source": [
    "df1.head()"
   ]
  },
  {
   "cell_type": "code",
   "execution_count": 13,
   "metadata": {},
   "outputs": [
    {
     "data": {
      "text/plain": [
       "Index(['OccID', 'OccNo', 'AirportID', 'AirportID_AirportName',\n",
       "       'AirportID_CountryID', 'AirportID_CountryID_DisplayEng',\n",
       "       'AirportID_CountryID_DisplayFre', 'Airport_ProvinceID',\n",
       "       'AirportID_ProvinceID_DisplayEng', 'AirportID_ProvinceID_DisplayFre',\n",
       "       ...\n",
       "       'InitialPositionEnum_DisplayFre', 'FinalPositionEnum',\n",
       "       'FinalPositionEnum_DisplayEng', 'FinalPositionEnum_DisplayFre',\n",
       "       'FullProcedureIND', 'FullProcedureIND_DisplayEng',\n",
       "       'FullProcedureIND_DisplayFre', 'SurfaceContaminationID',\n",
       "       'SurfaceContaminationID_DisplayEng',\n",
       "       'SurfaceContaminationID_DisplayFre'],\n",
       "      dtype='object', length=246)"
      ]
     },
     "execution_count": 13,
     "metadata": {},
     "output_type": "execute_result"
    }
   ],
   "source": [
    "df1.columns"
   ]
  },
  {
   "cell_type": "code",
   "execution_count": 14,
   "metadata": {},
   "outputs": [],
   "source": [
    "df1u = df1.OccID.nunique()"
   ]
  },
  {
   "cell_type": "code",
   "execution_count": 15,
   "metadata": {},
   "outputs": [
    {
     "data": {
      "text/html": [
       "<div>\n",
       "<style scoped>\n",
       "    .dataframe tbody tr th:only-of-type {\n",
       "        vertical-align: middle;\n",
       "    }\n",
       "\n",
       "    .dataframe tbody tr th {\n",
       "        vertical-align: top;\n",
       "    }\n",
       "\n",
       "    .dataframe thead th {\n",
       "        text-align: right;\n",
       "    }\n",
       "</style>\n",
       "<table border=\"1\" class=\"dataframe\">\n",
       "  <thead>\n",
       "    <tr style=\"text-align: right;\">\n",
       "      <th></th>\n",
       "      <th>Dataset</th>\n",
       "      <th>Unique</th>\n",
       "    </tr>\n",
       "  </thead>\n",
       "  <tbody>\n",
       "    <tr>\n",
       "      <th>0</th>\n",
       "      <td>AC</td>\n",
       "      <td>43855</td>\n",
       "    </tr>\n",
       "    <tr>\n",
       "      <th>1</th>\n",
       "      <td>EVE</td>\n",
       "      <td>43854</td>\n",
       "    </tr>\n",
       "  </tbody>\n",
       "</table>\n",
       "</div>"
      ],
      "text/plain": [
       "  Dataset  Unique\n",
       "0      AC   43855\n",
       "1     EVE   43854"
      ]
     },
     "execution_count": 15,
     "metadata": {},
     "output_type": "execute_result"
    }
   ],
   "source": [
    "unique_ = pd.DataFrame({'Dataset' :[\"AC\",\"EVE\"],#\"OCC\",\"SUR\"], \n",
    "                        \"Unique\":[df1u,df2u]})#df3u,df4u\n",
    "unique_.sort_values(by=\"Unique\", ascending=False)"
   ]
  },
  {
   "cell_type": "code",
   "execution_count": 16,
   "metadata": {},
   "outputs": [],
   "source": [
    "dfm = df1.merge(df2, how='left', left_on=('OccID','OccNo'), right_on=('OccID','OccNo'))"
   ]
  },
  {
   "cell_type": "code",
   "execution_count": 17,
   "metadata": {},
   "outputs": [],
   "source": [
    "#dfm.TotalFatalCount"
   ]
  },
  {
   "cell_type": "code",
   "execution_count": 18,
   "metadata": {},
   "outputs": [],
   "source": [
    "# from functools import reduce\n",
    "# dfm = reduce(lambda left,right: pd.merge(left,right, on='OccID',how='inner'), dfs)"
   ]
  },
  {
   "cell_type": "code",
   "execution_count": 19,
   "metadata": {},
   "outputs": [
    {
     "data": {
      "text/plain": [
       "(68258, 438)"
      ]
     },
     "execution_count": 19,
     "metadata": {},
     "output_type": "execute_result"
    }
   ],
   "source": [
    "dfm.shape"
   ]
  },
  {
   "cell_type": "code",
   "execution_count": 20,
   "metadata": {},
   "outputs": [
    {
     "data": {
      "text/html": [
       "<div>\n",
       "<style scoped>\n",
       "    .dataframe tbody tr th:only-of-type {\n",
       "        vertical-align: middle;\n",
       "    }\n",
       "\n",
       "    .dataframe tbody tr th {\n",
       "        vertical-align: top;\n",
       "    }\n",
       "\n",
       "    .dataframe thead th {\n",
       "        text-align: right;\n",
       "    }\n",
       "</style>\n",
       "<table border=\"1\" class=\"dataframe\">\n",
       "  <thead>\n",
       "    <tr style=\"text-align: right;\">\n",
       "      <th></th>\n",
       "      <th>OccID</th>\n",
       "      <th>AircraftTypeID_DisplayEng</th>\n",
       "      <th>AircraftMakeID_DisplayEng</th>\n",
       "      <th>OrganizationID_DisplayEng</th>\n",
       "      <th>OperatorTypeID_DisplayEng</th>\n",
       "      <th>YearOfManuf</th>\n",
       "      <th>NumberOfEngine</th>\n",
       "      <th>OperationTypeID_DisplayEng</th>\n",
       "      <th>OccDate</th>\n",
       "      <th>OccTime</th>\n",
       "      <th>Latitude</th>\n",
       "      <th>Longitude</th>\n",
       "      <th>TotalFatalCount</th>\n",
       "      <th>OccTypeID_DisplayEng</th>\n",
       "    </tr>\n",
       "  </thead>\n",
       "  <tbody>\n",
       "    <tr>\n",
       "      <th>0</th>\n",
       "      <td>152828</td>\n",
       "      <td>AEROPLANE</td>\n",
       "      <td>BOMBARDIER</td>\n",
       "      <td>JAZZ AVIATION LP</td>\n",
       "      <td>COMMERCIAL</td>\n",
       "      <td>2005</td>\n",
       "      <td>2.0</td>\n",
       "      <td>AIR TRANSPORT</td>\n",
       "      <td>6/11/2019 12:00:00 AM</td>\n",
       "      <td>13:35:00</td>\n",
       "      <td>56.550000</td>\n",
       "      <td>129.260000</td>\n",
       "      <td>0</td>\n",
       "      <td>INCIDENT REPORTABLE</td>\n",
       "    </tr>\n",
       "    <tr>\n",
       "      <th>1</th>\n",
       "      <td>152827</td>\n",
       "      <td>AEROPLANE</td>\n",
       "      <td>BOEING</td>\n",
       "      <td>AIR NORTH CHARTER &amp; TRAINING</td>\n",
       "      <td>COMMERCIAL</td>\n",
       "      <td>1992</td>\n",
       "      <td>2.0</td>\n",
       "      <td>AIR TRANSPORT</td>\n",
       "      <td>6/12/2019 12:00:00 AM</td>\n",
       "      <td>22:33:00</td>\n",
       "      <td>60.709444</td>\n",
       "      <td>135.067222</td>\n",
       "      <td>0</td>\n",
       "      <td>INCIDENT REPORTABLE</td>\n",
       "    </tr>\n",
       "    <tr>\n",
       "      <th>2</th>\n",
       "      <td>152827</td>\n",
       "      <td>AEROPLANE</td>\n",
       "      <td>BOEING</td>\n",
       "      <td>AIR NORTH CHARTER &amp; TRAINING</td>\n",
       "      <td>COMMERCIAL</td>\n",
       "      <td>1992</td>\n",
       "      <td>2.0</td>\n",
       "      <td>AIR TRANSPORT</td>\n",
       "      <td>6/12/2019 12:00:00 AM</td>\n",
       "      <td>22:33:00</td>\n",
       "      <td>60.709444</td>\n",
       "      <td>135.067222</td>\n",
       "      <td>0</td>\n",
       "      <td>INCIDENT REPORTABLE</td>\n",
       "    </tr>\n",
       "    <tr>\n",
       "      <th>3</th>\n",
       "      <td>152826</td>\n",
       "      <td>HELICOPTER</td>\n",
       "      <td>SIKORSKY</td>\n",
       "      <td>VIH HELICOPTERS LTD</td>\n",
       "      <td>COMMERCIAL</td>\n",
       "      <td>1960</td>\n",
       "      <td>2.0</td>\n",
       "      <td>HELILOGGING</td>\n",
       "      <td>5/24/2019 12:00:00 AM</td>\n",
       "      <td>12:00:00</td>\n",
       "      <td>52.185000</td>\n",
       "      <td>128.156667</td>\n",
       "      <td>0</td>\n",
       "      <td>INCIDENT REPORTABLE</td>\n",
       "    </tr>\n",
       "    <tr>\n",
       "      <th>4</th>\n",
       "      <td>152825</td>\n",
       "      <td>AEROPLANE</td>\n",
       "      <td>AIRBUS</td>\n",
       "      <td>UNITED AIRLINES</td>\n",
       "      <td>COMMERCIAL</td>\n",
       "      <td>1993</td>\n",
       "      <td>2.0</td>\n",
       "      <td>AIR TRANSPORT</td>\n",
       "      <td>6/12/2019 12:00:00 AM</td>\n",
       "      <td>14:40:00</td>\n",
       "      <td>49.194722</td>\n",
       "      <td>123.183889</td>\n",
       "      <td>0</td>\n",
       "      <td>INCIDENT REPORTABLE</td>\n",
       "    </tr>\n",
       "  </tbody>\n",
       "</table>\n",
       "</div>"
      ],
      "text/plain": [
       "    OccID AircraftTypeID_DisplayEng AircraftMakeID_DisplayEng  \\\n",
       "0  152828                 AEROPLANE                BOMBARDIER   \n",
       "1  152827                 AEROPLANE                    BOEING   \n",
       "2  152827                 AEROPLANE                    BOEING   \n",
       "3  152826                HELICOPTER                  SIKORSKY   \n",
       "4  152825                 AEROPLANE                    AIRBUS   \n",
       "\n",
       "      OrganizationID_DisplayEng OperatorTypeID_DisplayEng YearOfManuf  \\\n",
       "0              JAZZ AVIATION LP                COMMERCIAL        2005   \n",
       "1  AIR NORTH CHARTER & TRAINING                COMMERCIAL        1992   \n",
       "2  AIR NORTH CHARTER & TRAINING                COMMERCIAL        1992   \n",
       "3           VIH HELICOPTERS LTD                COMMERCIAL        1960   \n",
       "4               UNITED AIRLINES                COMMERCIAL        1993   \n",
       "\n",
       "   NumberOfEngine OperationTypeID_DisplayEng                OccDate   OccTime  \\\n",
       "0             2.0              AIR TRANSPORT  6/11/2019 12:00:00 AM  13:35:00   \n",
       "1             2.0              AIR TRANSPORT  6/12/2019 12:00:00 AM  22:33:00   \n",
       "2             2.0              AIR TRANSPORT  6/12/2019 12:00:00 AM  22:33:00   \n",
       "3             2.0                HELILOGGING  5/24/2019 12:00:00 AM  12:00:00   \n",
       "4             2.0              AIR TRANSPORT  6/12/2019 12:00:00 AM  14:40:00   \n",
       "\n",
       "    Latitude   Longitude  TotalFatalCount OccTypeID_DisplayEng  \n",
       "0  56.550000  129.260000                0  INCIDENT REPORTABLE  \n",
       "1  60.709444  135.067222                0  INCIDENT REPORTABLE  \n",
       "2  60.709444  135.067222                0  INCIDENT REPORTABLE  \n",
       "3  52.185000  128.156667                0  INCIDENT REPORTABLE  \n",
       "4  49.194722  123.183889                0  INCIDENT REPORTABLE  "
      ]
     },
     "execution_count": 20,
     "metadata": {},
     "output_type": "execute_result"
    }
   ],
   "source": [
    "#Select relevant features, USE df=df[]!!!!\n",
    "dfr = dfm[['OccID', 'AircraftTypeID_DisplayEng','AircraftMakeID_DisplayEng','OrganizationID_DisplayEng', 'OperatorTypeID_DisplayEng',\n",
    "      'YearOfManuf','NumberOfEngine','OperationTypeID_DisplayEng', \n",
    "      'OccDate', 'OccTime','Latitude','Longitude', 'TotalFatalCount', 'OccTypeID_DisplayEng']]\n",
    "dfr.head()"
   ]
  },
  {
   "cell_type": "code",
   "execution_count": 21,
   "metadata": {},
   "outputs": [
    {
     "data": {
      "text/plain": [
       "(68258, 14)"
      ]
     },
     "execution_count": 21,
     "metadata": {},
     "output_type": "execute_result"
    }
   ],
   "source": [
    "dfr.shape"
   ]
  },
  {
   "cell_type": "code",
   "execution_count": 22,
   "metadata": {},
   "outputs": [
    {
     "name": "stdout",
     "output_type": "stream",
     "text": [
      "<class 'pandas.core.frame.DataFrame'>\n",
      "Int64Index: 68258 entries, 0 to 68257\n",
      "Data columns (total 14 columns):\n",
      "OccID                         68258 non-null int64\n",
      "AircraftTypeID_DisplayEng     68255 non-null object\n",
      "AircraftMakeID_DisplayEng     67203 non-null object\n",
      "OrganizationID_DisplayEng     53411 non-null object\n",
      "OperatorTypeID_DisplayEng     64618 non-null object\n",
      "YearOfManuf                   57940 non-null object\n",
      "NumberOfEngine                67826 non-null float64\n",
      "OperationTypeID_DisplayEng    64074 non-null object\n",
      "OccDate                       68258 non-null object\n",
      "OccTime                       67914 non-null object\n",
      "Latitude                      66695 non-null float64\n",
      "Longitude                     66699 non-null float64\n",
      "TotalFatalCount               68258 non-null int64\n",
      "OccTypeID_DisplayEng          68258 non-null object\n",
      "dtypes: float64(3), int64(2), object(9)\n",
      "memory usage: 7.8+ MB\n"
     ]
    }
   ],
   "source": [
    "dfr.info()"
   ]
  },
  {
   "cell_type": "code",
   "execution_count": 23,
   "metadata": {},
   "outputs": [],
   "source": [
    "df = dfr.drop_duplicates(subset='OccID')\n",
    "#df.dropna(inplace = True)"
   ]
  },
  {
   "cell_type": "code",
   "execution_count": 24,
   "metadata": {},
   "outputs": [],
   "source": [
    "#sns.heatmap(df.isnull(), cbar=False)"
   ]
  },
  {
   "cell_type": "code",
   "execution_count": 25,
   "metadata": {},
   "outputs": [
    {
     "name": "stdout",
     "output_type": "stream",
     "text": [
      "<class 'pandas.core.frame.DataFrame'>\n",
      "Int64Index: 43855 entries, 0 to 68257\n",
      "Data columns (total 14 columns):\n",
      "OccID                         43855 non-null int64\n",
      "AircraftTypeID_DisplayEng     43852 non-null object\n",
      "AircraftMakeID_DisplayEng     42978 non-null object\n",
      "OrganizationID_DisplayEng     32656 non-null object\n",
      "OperatorTypeID_DisplayEng     41087 non-null object\n",
      "YearOfManuf                   37097 non-null object\n",
      "NumberOfEngine                43647 non-null float64\n",
      "OperationTypeID_DisplayEng    40698 non-null object\n",
      "OccDate                       43855 non-null object\n",
      "OccTime                       43554 non-null object\n",
      "Latitude                      42521 non-null float64\n",
      "Longitude                     42525 non-null float64\n",
      "TotalFatalCount               43855 non-null int64\n",
      "OccTypeID_DisplayEng          43855 non-null object\n",
      "dtypes: float64(3), int64(2), object(9)\n",
      "memory usage: 5.0+ MB\n"
     ]
    }
   ],
   "source": [
    "df.shape\n",
    "df.info()"
   ]
  },
  {
   "cell_type": "code",
   "execution_count": 26,
   "metadata": {},
   "outputs": [
    {
     "data": {
      "text/plain": [
       "OccID                           int64\n",
       "AircraftTypeID_DisplayEng      object\n",
       "AircraftMakeID_DisplayEng      object\n",
       "OrganizationID_DisplayEng      object\n",
       "OperatorTypeID_DisplayEng      object\n",
       "YearOfManuf                    object\n",
       "NumberOfEngine                float64\n",
       "OperationTypeID_DisplayEng     object\n",
       "OccDate                        object\n",
       "OccTime                        object\n",
       "Latitude                      float64\n",
       "Longitude                     float64\n",
       "TotalFatalCount                 int64\n",
       "OccTypeID_DisplayEng           object\n",
       "dtype: object"
      ]
     },
     "execution_count": 26,
     "metadata": {},
     "output_type": "execute_result"
    }
   ],
   "source": [
    "#Inferring dtypes\n",
    "df = df.infer_objects()\n",
    "df.dtypes"
   ]
  },
  {
   "cell_type": "code",
   "execution_count": 27,
   "metadata": {},
   "outputs": [],
   "source": [
    "#Drop nulls on target\n",
    "df = df[pd.notnull(df['OccTypeID_DisplayEng'])]"
   ]
  },
  {
   "cell_type": "code",
   "execution_count": 28,
   "metadata": {},
   "outputs": [
    {
     "data": {
      "text/plain": [
       "(43855, 14)"
      ]
     },
     "execution_count": 28,
     "metadata": {},
     "output_type": "execute_result"
    }
   ],
   "source": [
    "df.shape"
   ]
  },
  {
   "cell_type": "code",
   "execution_count": 29,
   "metadata": {},
   "outputs": [
    {
     "name": "stdout",
     "output_type": "stream",
     "text": [
      "        OccID AircraftTypeID_DisplayEng  \\\n",
      "0      152828                 AEROPLANE   \n",
      "1      152827                 AEROPLANE   \n",
      "3      152826                HELICOPTER   \n",
      "4      152825                 AEROPLANE   \n",
      "5      152822                HELICOPTER   \n",
      "6      152820                 AEROPLANE   \n",
      "7      152819                       NaN   \n",
      "8      152818                 AEROPLANE   \n",
      "9      152814                 AEROPLANE   \n",
      "10     152813       ADVANCED ULTRALIGHT   \n",
      "11     152812                 AEROPLANE   \n",
      "12     152809                 AEROPLANE   \n",
      "13     152806          BASIC ULTRALIGHT   \n",
      "15     152805                 AEROPLANE   \n",
      "16     152803                 AEROPLANE   \n",
      "17     152802                 AEROPLANE   \n",
      "19     152800                 AEROPLANE   \n",
      "20     152799                 AEROPLANE   \n",
      "21     152798                 AEROPLANE   \n",
      "27     152797                HELICOPTER   \n",
      "28     152796                 AEROPLANE   \n",
      "29     152795                 AEROPLANE   \n",
      "30     152794                 AEROPLANE   \n",
      "32     152791                 AEROPLANE   \n",
      "33     152790                 AEROPLANE   \n",
      "34     152789                 AEROPLANE   \n",
      "38     152788                 AEROPLANE   \n",
      "39     152787                HELICOPTER   \n",
      "41     152786                HELICOPTER   \n",
      "43     152785                 AEROPLANE   \n",
      "...       ...                       ...   \n",
      "68225   45030                 AEROPLANE   \n",
      "68226   45029                 AEROPLANE   \n",
      "68228   45028                 AEROPLANE   \n",
      "68229   45027                 AEROPLANE   \n",
      "68230   45026                HELICOPTER   \n",
      "68231   45025                 AEROPLANE   \n",
      "68232   45024                 AEROPLANE   \n",
      "68233   45023                 AEROPLANE   \n",
      "68234   45022                 AEROPLANE   \n",
      "68235   45021                 AEROPLANE   \n",
      "68236   45020                 AEROPLANE   \n",
      "68237   45019                 AEROPLANE   \n",
      "68238   45018                 AEROPLANE   \n",
      "68239   45017                 AEROPLANE   \n",
      "68240   45016                 AEROPLANE   \n",
      "68241   45015                 AEROPLANE   \n",
      "68242   45014                 AEROPLANE   \n",
      "68243   45013                 AEROPLANE   \n",
      "68244   45012                 AEROPLANE   \n",
      "68245   45011                 AEROPLANE   \n",
      "68246   45010                 AEROPLANE   \n",
      "68247   45009                 AEROPLANE   \n",
      "68248   45008                 AEROPLANE   \n",
      "68249   45007                 AEROPLANE   \n",
      "68250   45006                 AEROPLANE   \n",
      "68251   45005                 AEROPLANE   \n",
      "68253   45004                 AEROPLANE   \n",
      "68255   45003                 AEROPLANE   \n",
      "68256   45002                 AEROPLANE   \n",
      "68257   45001                HELICOPTER   \n",
      "\n",
      "                       AircraftMakeID_DisplayEng  \\\n",
      "0                                     BOMBARDIER   \n",
      "1                                         BOEING   \n",
      "3                                       SIKORSKY   \n",
      "4                                         AIRBUS   \n",
      "5                                BELL HELICOPTER   \n",
      "6                                         BOEING   \n",
      "7                                            NaN   \n",
      "8                                        PILATUS   \n",
      "9                                         BOEING   \n",
      "10                                        MACAIR   \n",
      "11                                        CESSNA   \n",
      "12                                        AIRBUS   \n",
      "13                         Ellison Everett Blair   \n",
      "15                                        CESSNA   \n",
      "16                                           NaN   \n",
      "17                                        BOEING   \n",
      "19                                        BOEING   \n",
      "20                                        AIRBUS   \n",
      "21                                           NaN   \n",
      "27                           ROBINSON HELICOPTER   \n",
      "28                                         BEECH   \n",
      "29                                        BOEING   \n",
      "30                                           NaN   \n",
      "32                                        BOEING   \n",
      "33                                        BOEING   \n",
      "34                                         PIPER   \n",
      "38                                       EMBRAER   \n",
      "39                               BELL HELICOPTER   \n",
      "41                                  AEROSPATIALE   \n",
      "43                                    BOMBARDIER   \n",
      "...                                          ...   \n",
      "68225                                     CESSNA   \n",
      "68226                                     CESSNA   \n",
      "68228                                     CESSNA   \n",
      "68229                                      PIPER   \n",
      "68230                            BELL HELICOPTER   \n",
      "68231                                     CESSNA   \n",
      "68232                                     CESSNA   \n",
      "68233                                      PIPER   \n",
      "68234                                     CESSNA   \n",
      "68235                                    AERONCA   \n",
      "68236                               DE HAVILLAND   \n",
      "68237                                      PIPER   \n",
      "68238                                    GRUMMAN   \n",
      "68239                               DE HAVILLAND   \n",
      "68240                                      PIPER   \n",
      "68241                                      PIPER   \n",
      "68242                                      MAULE   \n",
      "68243                                      BEECH   \n",
      "68244                                      PIPER   \n",
      "68245                             NORTH AMERICAN   \n",
      "68246                                   CHAMPION   \n",
      "68247                                     CESSNA   \n",
      "68248                                    GRUMMAN   \n",
      "68249                                     CESSNA   \n",
      "68250                                     CESSNA   \n",
      "68251                               DE HAVILLAND   \n",
      "68253                               DE HAVILLAND   \n",
      "68255                                      PIPER   \n",
      "68256                                     CESSNA   \n",
      "68257  HUGHES TOOL , AIRCRAFT DIVISION (1955-69)   \n",
      "\n",
      "          OrganizationID_DisplayEng OperatorTypeID_DisplayEng YearOfManuf  \\\n",
      "0                  JAZZ AVIATION LP                COMMERCIAL        2005   \n",
      "1      AIR NORTH CHARTER & TRAINING                COMMERCIAL        1992   \n",
      "3               VIH HELICOPTERS LTD                COMMERCIAL        1960   \n",
      "4                   UNITED AIRLINES                COMMERCIAL        1993   \n",
      "5             Arrowhead Helicopters                COMMERCIAL        1997   \n",
      "6                           WESTJET                COMMERCIAL        2016   \n",
      "7                               NaN                       NaN         NaN   \n",
      "8                   PASCAN AVIATION                COMMERCIAL        1997   \n",
      "9             SUNWING AIRLINES INC.                COMMERCIAL        2014   \n",
      "10                              NaN                   PRIVATE        1990   \n",
      "11                 Contour Aviation                COMMERCIAL        2002   \n",
      "12                       AIR CANADA                COMMERCIAL        1993   \n",
      "13                              NaN                   PRIVATE        2011   \n",
      "15                              NaN                   PRIVATE        1966   \n",
      "16                              NaN                   PRIVATE        2012   \n",
      "17                          WESTJET                COMMERCIAL        2014   \n",
      "19                        ATLAS AIR                COMMERCIAL         NaN   \n",
      "20                       AIR CANADA                COMMERCIAL        2001   \n",
      "21                              NaN                   PRIVATE        1981   \n",
      "27                              NaN                   PRIVATE        2006   \n",
      "28                  AVIATION MH INC                COMMERCIAL         NaN   \n",
      "29                 AIR CANADA ROUGE                COMMERCIAL        1990   \n",
      "30                              NaN                   PRIVATE        1994   \n",
      "32            SUNWING AIRLINES INC.                COMMERCIAL        2014   \n",
      "33                       AIR CANADA                COMMERCIAL        2016   \n",
      "34           CANADIAN FLIGHT CENTRE                COMMERCIAL        1981   \n",
      "38                       AIR CANADA                COMMERCIAL        2007   \n",
      "39          AIRSPAN HELICOPTERS LTD                COMMERCIAL        1973   \n",
      "41          AIRSPAN HELICOPTERS LTD                COMMERCIAL        2009   \n",
      "43             PORTER AIRLINES INC.                COMMERCIAL        2011   \n",
      "...                             ...                       ...         ...   \n",
      "68225                           NaN                   PRIVATE         NaN   \n",
      "68226                           NaN                   PRIVATE        1953   \n",
      "68228      WENTZELLS FLYING SERVICE                COMMERCIAL         NaN   \n",
      "68229                           NaN                   PRIVATE         NaN   \n",
      "68230         UNIVERSAL HELICOPTERS                COMMERCIAL        1976   \n",
      "68231            ASHUANIPI AVIATION                COMMERCIAL        1961   \n",
      "68232         MIRAMICHI AIR SERVICE                COMMERCIAL        1975   \n",
      "68233        EASTERN FLYING SERVICE                COMMERCIAL        1971   \n",
      "68234           BUTLER AIR SERVICES                COMMERCIAL        1967   \n",
      "68235                           NaN                   PRIVATE        1941   \n",
      "68236              LABRADOR AIRWAYS                COMMERCIAL        1952   \n",
      "68237                           NaN                   PRIVATE        1964   \n",
      "68238                           NaN                   PRIVATE        1971   \n",
      "68239              LABRADOR AIRWAYS                COMMERCIAL        1958   \n",
      "68240                           NaN                   PRIVATE        1947   \n",
      "68241                           NaN                   PRIVATE        1969   \n",
      "68242           SUNDANCER AIR SHOWS                COMMERCIAL        1976   \n",
      "68243                           NaN                   PRIVATE        1971   \n",
      "68244                           NaN                   PRIVATE         NaN   \n",
      "68245                           NaN                   PRIVATE        1971   \n",
      "68246                           NaN                   PRIVATE        1974   \n",
      "68247                           NaN                   PRIVATE        1955   \n",
      "68248                        CONAIR                COMMERCIAL         NaN   \n",
      "68249                           NaN                   PRIVATE         NaN   \n",
      "68250                           NaN                   PRIVATE         NaN   \n",
      "68251              LABRADOR AIRWAYS                COMMERCIAL        1952   \n",
      "68253              LABRADOR AIRWAYS                COMMERCIAL        1959   \n",
      "68255           MONCTON FLYING CLUB                COMMERCIAL        1976   \n",
      "68256              LABRADOR AIRWAYS                COMMERCIAL         NaN   \n",
      "68257            VIKING HELICOPTERS                COMMERCIAL        1969   \n",
      "\n",
      "       NumberOfEngine       OperationTypeID_DisplayEng                OccDate  \\\n",
      "0                 2.0                    AIR TRANSPORT  6/11/2019 12:00:00 AM   \n",
      "1                 2.0                    AIR TRANSPORT  6/12/2019 12:00:00 AM   \n",
      "3                 2.0                      HELILOGGING  5/24/2019 12:00:00 AM   \n",
      "4                 2.0                    AIR TRANSPORT  6/12/2019 12:00:00 AM   \n",
      "5                 1.0                     HELISLINGING  6/11/2019 12:00:00 AM   \n",
      "6                 2.0                    AIR TRANSPORT   6/9/2019 12:00:00 AM   \n",
      "7                 NaN                              NaN  6/10/2019 12:00:00 AM   \n",
      "8                 1.0                    AIR TRANSPORT  6/12/2019 12:00:00 AM   \n",
      "9                 2.0                    AIR TRANSPORT   6/7/2019 12:00:00 AM   \n",
      "10                1.0                              NaN  6/11/2019 12:00:00 AM   \n",
      "11                2.0                    AIR TRANSPORT  6/11/2019 12:00:00 AM   \n",
      "12                2.0                    AIR TRANSPORT   6/5/2019 12:00:00 AM   \n",
      "13                1.0                  PLEASURE/TRAVEL   6/9/2019 12:00:00 AM   \n",
      "15                1.0                  PLEASURE/TRAVEL   6/4/2019 12:00:00 AM   \n",
      "16                1.0                  PLEASURE/TRAVEL   6/9/2019 12:00:00 AM   \n",
      "17                2.0                    AIR TRANSPORT  5/17/2019 12:00:00 AM   \n",
      "19                2.0                    AIR TRANSPORT   6/9/2019 12:00:00 AM   \n",
      "20                2.0                    AIR TRANSPORT   6/7/2019 12:00:00 AM   \n",
      "21                1.0                  PLEASURE/TRAVEL   6/8/2019 12:00:00 AM   \n",
      "27                1.0                  PLEASURE/TRAVEL   6/7/2019 12:00:00 AM   \n",
      "28                1.0                         TRAINING   6/7/2019 12:00:00 AM   \n",
      "29                2.0                    AIR TRANSPORT   6/6/2019 12:00:00 AM   \n",
      "30                1.0                  PLEASURE/TRAVEL  5/19/2019 12:00:00 AM   \n",
      "32                2.0                    AIR TRANSPORT  5/25/2019 12:00:00 AM   \n",
      "33                2.0                    AIR TRANSPORT   6/5/2019 12:00:00 AM   \n",
      "34                2.0                         TRAINING  5/31/2019 12:00:00 AM   \n",
      "38                2.0                    AIR TRANSPORT   6/4/2019 12:00:00 AM   \n",
      "39                2.0  FIRE FIGHTING / FIRE MANAGEMENT  5/29/2019 12:00:00 AM   \n",
      "41                1.0  FIRE FIGHTING / FIRE MANAGEMENT  5/27/2019 12:00:00 AM   \n",
      "43                2.0                    AIR TRANSPORT   6/5/2019 12:00:00 AM   \n",
      "...               ...                              ...                    ...   \n",
      "68225             1.0                  PLEASURE/TRAVEL  9/23/1976 12:00:00 AM   \n",
      "68226             1.0                         TRAINING  9/19/1976 12:00:00 AM   \n",
      "68228             1.0                    AIR TRANSPORT  9/18/1976 12:00:00 AM   \n",
      "68229             1.0                  PLEASURE/TRAVEL  9/14/1976 12:00:00 AM   \n",
      "68230             1.0                     CONSTRUCTION  9/13/1976 12:00:00 AM   \n",
      "68231             1.0                            FERRY  8/22/1976 12:00:00 AM   \n",
      "68232             1.0                  PLEASURE/TRAVEL  8/16/1976 12:00:00 AM   \n",
      "68233             1.0                         TRAINING  8/13/1976 12:00:00 AM   \n",
      "68234             1.0                         TRAINING  8/12/1976 12:00:00 AM   \n",
      "68235             1.0                  PLEASURE/TRAVEL   8/8/1976 12:00:00 AM   \n",
      "68236             1.0                    AIR TRANSPORT  7/31/1976 12:00:00 AM   \n",
      "68237             1.0                         BUSINESS  7/29/1976 12:00:00 AM   \n",
      "68238             1.0                            OTHER  7/22/1976 12:00:00 AM   \n",
      "68239             1.0                    AIR TRANSPORT  7/19/1976 12:00:00 AM   \n",
      "68240             1.0                  PLEASURE/TRAVEL  7/18/1976 12:00:00 AM   \n",
      "68241             1.0                  PLEASURE/TRAVEL  6/27/1976 12:00:00 AM   \n",
      "68242             1.0                      ADVERTISING  6/19/1976 12:00:00 AM   \n",
      "68243             1.0                  PLEASURE/TRAVEL  5/24/1976 12:00:00 AM   \n",
      "68244             1.0                  PLEASURE/TRAVEL   6/5/1976 12:00:00 AM   \n",
      "68245             1.0                      APPLICATION   6/6/1976 12:00:00 AM   \n",
      "68246             1.0                      ADVERTISING   6/5/1976 12:00:00 AM   \n",
      "68247             1.0                  PLEASURE/TRAVEL   6/4/1976 12:00:00 AM   \n",
      "68248             1.0                      APPLICATION  5/29/1976 12:00:00 AM   \n",
      "68249             1.0                         BUSINESS   5/5/1976 12:00:00 AM   \n",
      "68250             1.0                  PLEASURE/TRAVEL   3/4/1976 12:00:00 AM   \n",
      "68251             1.0                    AIR TRANSPORT  2/25/1976 12:00:00 AM   \n",
      "68253             1.0                    AIR TRANSPORT  2/16/1976 12:00:00 AM   \n",
      "68255             1.0                  PLEASURE/TRAVEL  2/13/1976 12:00:00 AM   \n",
      "68256             1.0                    AIR TRANSPORT  1/19/1976 12:00:00 AM   \n",
      "68257             1.0                     CONSTRUCTION   1/9/1976 12:00:00 AM   \n",
      "\n",
      "        OccTime   Latitude   Longitude  TotalFatalCount OccTypeID_DisplayEng  \n",
      "0      13:35:00  56.550000  129.260000                0  INCIDENT REPORTABLE  \n",
      "1      22:33:00  60.709444  135.067222                0  INCIDENT REPORTABLE  \n",
      "3      12:00:00  52.185000  128.156667                0  INCIDENT REPORTABLE  \n",
      "4      14:40:00  49.194722  123.183889                0  INCIDENT REPORTABLE  \n",
      "5      13:00:00  58.276667  104.082500                0  INCIDENT REPORTABLE  \n",
      "6      13:30:00  49.910000   97.240000                0  INCIDENT REPORTABLE  \n",
      "7      16:27:00  45.470556   73.740833                0  INCIDENT REPORTABLE  \n",
      "8      11:40:00  46.791111   71.393333                0  INCIDENT REPORTABLE  \n",
      "9      19:55:00  39.601944   19.911667                0  INCIDENT REPORTABLE  \n",
      "10     17:00:00  47.206389   55.397778                0             ACCIDENT  \n",
      "11     16:55:00  45.470556   73.740833                0  INCIDENT REPORTABLE  \n",
      "12     22:00:00  43.111111   76.106389                0  INCIDENT REPORTABLE  \n",
      "13     23:05:00        NaN         NaN                0             ACCIDENT  \n",
      "15     18:00:00  57.380000  106.670000                0             ACCIDENT  \n",
      "16     16:00:00  43.993333   79.266944                0             ACCIDENT  \n",
      "17     20:06:00  43.676667   79.630556                0  INCIDENT REPORTABLE  \n",
      "19     05:29:00  53.319167   60.425833                0  INCIDENT REPORTABLE  \n",
      "20     18:40:00  45.470556   73.740833                0  INCIDENT REPORTABLE  \n",
      "21     15:32:00  45.438611   71.691389                0             ACCIDENT  \n",
      "27     17:39:00  45.350000   74.083333                0             ACCIDENT  \n",
      "28     13:11:00  47.083333   67.683333                0             ACCIDENT  \n",
      "29     03:52:00  45.470556   73.740833                0  INCIDENT REPORTABLE  \n",
      "30     16:47:00  48.746111   69.097222                0             ACCIDENT  \n",
      "32     09:28:00  39.551667    2.738889                0  INCIDENT REPORTABLE  \n",
      "33     10:51:00  57.000000   25.000000                0  INCIDENT REPORTABLE  \n",
      "34     22:00:00  49.025278  122.360000                0  INCIDENT REPORTABLE  \n",
      "38     01:43:00  42.729314  100.739872                0  INCIDENT REPORTABLE  \n",
      "39     19:35:00  57.183333  118.183333                0  INCIDENT REPORTABLE  \n",
      "41     09:30:00  56.950833  117.644167                0  INCIDENT REPORTABLE  \n",
      "43     18:53:00  48.371944   89.321667                0  INCIDENT REPORTABLE  \n",
      "...         ...        ...         ...              ...                  ...  \n",
      "68225  15:30:00  48.166667   56.166667                0             ACCIDENT  \n",
      "68226  06:59:00  44.983333   64.916667                0             ACCIDENT  \n",
      "68228  18:10:00  49.900000   57.333333                0             ACCIDENT  \n",
      "68229  10:00:00  49.783333   57.250000                0             ACCIDENT  \n",
      "68230  17:20:00  48.033333   53.666667                0             ACCIDENT  \n",
      "68231  12:45:00  53.716667   65.466667                0             ACCIDENT  \n",
      "68232  22:00:00  47.033333   65.533333                0             ACCIDENT  \n",
      "68233       NaN        NaN         NaN                1             ACCIDENT  \n",
      "68234  09:55:00  44.883333   63.516667                0             ACCIDENT  \n",
      "68235  09:30:00  46.000000   66.000000                1             ACCIDENT  \n",
      "68236  17:00:00  52.266667   55.583333                3             ACCIDENT  \n",
      "68237  10:15:00  45.200000   67.250000                0             ACCIDENT  \n",
      "68238  06:25:00  46.550000   67.633333                0             ACCIDENT  \n",
      "68239  14:50:00  55.416667   60.200000                0             ACCIDENT  \n",
      "68240  15:45:00  47.333333   64.916667                0             ACCIDENT  \n",
      "68241  21:50:00  45.850000   66.533333                0             ACCIDENT  \n",
      "68242  10:30:00  44.633333   63.500000                0             ACCIDENT  \n",
      "68243  14:00:00  46.316667   62.516667                0             ACCIDENT  \n",
      "68244  15:15:00  49.216667   57.383333                0             ACCIDENT  \n",
      "68245  07:20:00  46.666667   67.166667                1             ACCIDENT  \n",
      "68246  15:30:00  47.616667   52.750000                1             ACCIDENT  \n",
      "68247  20:20:00  45.266667   62.883333                0             ACCIDENT  \n",
      "68248  07:30:00  46.166667   64.583333                0             ACCIDENT  \n",
      "68249  13:45:00  45.266667   66.050000                0             ACCIDENT  \n",
      "68250  15:30:00  55.466667   60.216667                0             ACCIDENT  \n",
      "68251  17:09:00  53.316667   60.433333                0             ACCIDENT  \n",
      "68253  10:00:00  53.500000   55.833333                1             ACCIDENT  \n",
      "68255  18:30:00  51.483333   55.816667                0             ACCIDENT  \n",
      "68256  13:40:00  53.566667   64.100000                0             ACCIDENT  \n",
      "68257  11:30:00  48.050000   54.833333                0             ACCIDENT  \n",
      "\n",
      "[43855 rows x 14 columns]\n"
     ]
    }
   ],
   "source": [
    "print (df[pd.to_numeric(df.OccTypeID_DisplayEng, errors='coerce').isnull()])\n",
    "#pd.to_numeric(df['OccTypeID_DisplayEng'])"
   ]
  },
  {
   "cell_type": "code",
   "execution_count": 36,
   "metadata": {},
   "outputs": [
    {
     "ename": "ValueError",
     "evalue": "Unable to parse string \"JAZZ AVIATION LP\" at position 0",
     "output_type": "error",
     "traceback": [
      "\u001b[1;31m---------------------------------------------------------------------------\u001b[0m",
      "\u001b[1;31mValueError\u001b[0m                                Traceback (most recent call last)",
      "\u001b[1;32mpandas/_libs/lib.pyx\u001b[0m in \u001b[0;36mpandas._libs.lib.maybe_convert_numeric\u001b[1;34m()\u001b[0m\n",
      "\u001b[1;31mValueError\u001b[0m: Unable to parse string \"JAZZ AVIATION LP\"",
      "\nDuring handling of the above exception, another exception occurred:\n",
      "\u001b[1;31mValueError\u001b[0m                                Traceback (most recent call last)",
      "\u001b[1;32m<ipython-input-36-d5398b2ec2ef>\u001b[0m in \u001b[0;36m<module>\u001b[1;34m\u001b[0m\n\u001b[0;32m      3\u001b[0m \u001b[1;31m# df.iloc[df['a'].str.contains(non_numeric)]\u001b[0m\u001b[1;33m\u001b[0m\u001b[1;33m\u001b[0m\u001b[1;33m\u001b[0m\u001b[0m\n\u001b[0;32m      4\u001b[0m \u001b[1;33m\u001b[0m\u001b[0m\n\u001b[1;32m----> 5\u001b[1;33m \u001b[0mprint\u001b[0m \u001b[1;33m(\u001b[0m\u001b[0mdf\u001b[0m\u001b[1;33m[\u001b[0m\u001b[0mpd\u001b[0m\u001b[1;33m.\u001b[0m\u001b[0mto_numeric\u001b[0m\u001b[1;33m(\u001b[0m\u001b[0mdf\u001b[0m\u001b[1;33m.\u001b[0m\u001b[0mOrganizationID_DisplayEng\u001b[0m\u001b[1;33m)\u001b[0m\u001b[1;33m]\u001b[0m\u001b[1;33m)\u001b[0m\u001b[1;33m\u001b[0m\u001b[1;33m\u001b[0m\u001b[0m\n\u001b[0m",
      "\u001b[1;32mC:\\ProgramData\\Anaconda3\\envs\\Py36\\lib\\site-packages\\pandas\\core\\tools\\numeric.py\u001b[0m in \u001b[0;36mto_numeric\u001b[1;34m(arg, errors, downcast)\u001b[0m\n\u001b[0;32m    133\u001b[0m             \u001b[0mcoerce_numeric\u001b[0m \u001b[1;33m=\u001b[0m \u001b[1;32mFalse\u001b[0m \u001b[1;32mif\u001b[0m \u001b[0merrors\u001b[0m \u001b[1;32min\u001b[0m \u001b[1;33m(\u001b[0m\u001b[1;34m'ignore'\u001b[0m\u001b[1;33m,\u001b[0m \u001b[1;34m'raise'\u001b[0m\u001b[1;33m)\u001b[0m \u001b[1;32melse\u001b[0m \u001b[1;32mTrue\u001b[0m\u001b[1;33m\u001b[0m\u001b[1;33m\u001b[0m\u001b[0m\n\u001b[0;32m    134\u001b[0m             values = lib.maybe_convert_numeric(values, set(),\n\u001b[1;32m--> 135\u001b[1;33m                                                coerce_numeric=coerce_numeric)\n\u001b[0m\u001b[0;32m    136\u001b[0m \u001b[1;33m\u001b[0m\u001b[0m\n\u001b[0;32m    137\u001b[0m     \u001b[1;32mexcept\u001b[0m \u001b[0mException\u001b[0m\u001b[1;33m:\u001b[0m\u001b[1;33m\u001b[0m\u001b[1;33m\u001b[0m\u001b[0m\n",
      "\u001b[1;32mpandas/_libs/lib.pyx\u001b[0m in \u001b[0;36mpandas._libs.lib.maybe_convert_numeric\u001b[1;34m()\u001b[0m\n",
      "\u001b[1;31mValueError\u001b[0m: Unable to parse string \"JAZZ AVIATION LP\" at position 0"
     ]
    }
   ],
   "source": [
    "# non_numeric = df.OrganizationID_DisplayEng.compile(r'[^\\d.]+')\n",
    "# #df = pd.DataFrame({'a': [3,2,'NA']})\n",
    "# df.iloc[df['a'].str.contains(non_numeric)]\n",
    "\n",
    "print (df[pd.to_numeric(df.OrganizationID_DisplayEng)])"
   ]
  },
  {
   "cell_type": "code",
   "execution_count": null,
   "metadata": {},
   "outputs": [],
   "source": [
    "df.dtypes"
   ]
  },
  {
   "cell_type": "code",
   "execution_count": null,
   "metadata": {},
   "outputs": [],
   "source": [
    "df.OccTypeID_DisplayEng is list"
   ]
  },
  {
   "cell_type": "code",
   "execution_count": null,
   "metadata": {},
   "outputs": [],
   "source": [
    "df.OccTypeID_DisplayEng is str"
   ]
  },
  {
   "cell_type": "code",
   "execution_count": null,
   "metadata": {},
   "outputs": [],
   "source": [
    "df.OccTypeID_DisplayEng is int"
   ]
  },
  {
   "cell_type": "code",
   "execution_count": null,
   "metadata": {},
   "outputs": [],
   "source": [
    "df.OccTypeID_DisplayEng is dict"
   ]
  },
  {
   "cell_type": "code",
   "execution_count": null,
   "metadata": {},
   "outputs": [],
   "source": []
  },
  {
   "cell_type": "code",
   "execution_count": null,
   "metadata": {},
   "outputs": [],
   "source": [
    "msno.matrix(df)"
   ]
  },
  {
   "cell_type": "code",
   "execution_count": null,
   "metadata": {},
   "outputs": [],
   "source": [
    "#Total of missing values\n",
    "\n",
    "df.isnull().sum().sum()"
   ]
  },
  {
   "cell_type": "code",
   "execution_count": null,
   "metadata": {},
   "outputs": [],
   "source": [
    "df.nunique()"
   ]
  },
  {
   "cell_type": "code",
   "execution_count": null,
   "metadata": {},
   "outputs": [],
   "source": [
    "df.describe()"
   ]
  },
  {
   "cell_type": "code",
   "execution_count": null,
   "metadata": {},
   "outputs": [],
   "source": [
    "Long = df.Longitude * -1"
   ]
  },
  {
   "cell_type": "code",
   "execution_count": null,
   "metadata": {},
   "outputs": [],
   "source": [
    "sns.jointplot(x=Long.values, y=df.Latitude.values, size = 10)\n",
    "plt.title('Lat and Longs')"
   ]
  },
  {
   "cell_type": "code",
   "execution_count": null,
   "metadata": {
    "scrolled": true
   },
   "outputs": [],
   "source": [
    "df.sample(5)"
   ]
  },
  {
   "cell_type": "code",
   "execution_count": null,
   "metadata": {},
   "outputs": [],
   "source": [
    "df['OccDate'] = pd.to_datetime(df['OccDate'])\n",
    "#df.OccDate"
   ]
  },
  {
   "cell_type": "code",
   "execution_count": null,
   "metadata": {},
   "outputs": [],
   "source": [
    "#df = pd.to_datetime(df['OccDate'], errors='coerce')\n"
   ]
  },
  {
   "cell_type": "code",
   "execution_count": null,
   "metadata": {},
   "outputs": [],
   "source": [
    "#df.OccDate.dt.year"
   ]
  },
  {
   "cell_type": "code",
   "execution_count": null,
   "metadata": {},
   "outputs": [],
   "source": [
    "#importing plotly and cufflinks in offline mode\n",
    "import plotly.plotly as py\n",
    "import cufflinks as cf\n",
    "import plotly.graph_objs as go\n",
    "import plotly.figure_factory as ff\n",
    "from plotly.offline import download_plotlyjs\n",
    "from plotly.offline import init_notebook_mode\n",
    "from plotly.offline import plot, iplot\n",
    "init_notebook_mode(connected=True)\n",
    "cf.go_offline()"
   ]
  },
  {
   "cell_type": "code",
   "execution_count": null,
   "metadata": {},
   "outputs": [],
   "source": [
    "#Removed as there are few occurrences before 1976\n",
    "#dfen.OccDate.dt.year.iplot(kind='histogram', bins=40, theme='white', title='Ocurrences per year')"
   ]
  },
  {
   "cell_type": "code",
   "execution_count": null,
   "metadata": {},
   "outputs": [],
   "source": [
    "#Drop prior to 1976\n",
    "old = df[(df.OccDate.dt.year < 1976)].index\n",
    "dfo = df.drop(old, inplace=True)"
   ]
  },
  {
   "cell_type": "code",
   "execution_count": null,
   "metadata": {
    "scrolled": false
   },
   "outputs": [],
   "source": [
    "df.OccDate.dt.year.iplot(kind='histogram', bins=50, theme='white', title='Ocurrences per year')"
   ]
  },
  {
   "cell_type": "code",
   "execution_count": null,
   "metadata": {
    "scrolled": true
   },
   "outputs": [],
   "source": [
    "#plt.hist(df['OccTypeID_DisplayEng']);\n",
    "#sns.distplot( a=df[\"OccTypeID_DisplayEng\"], hist=True, kde=False, rug=False )\n",
    "#sns.scatter(x='OccTypeID_DisplayEng', data=df)\n",
    "#px.bar(df, x='OccTypeID_DisplayEng', template='plotly_white')\n",
    "#df.OccTypeID_DisplayEng.iplot(kind='histogram', bins=50, theme='white', title='Ocurrences per type')\n",
    "#px.histogram(df, x='OperatorTypeID_DisplayEng', color='OccTypeID_DisplayEng',template='plotly')"
   ]
  },
  {
   "cell_type": "code",
   "execution_count": null,
   "metadata": {},
   "outputs": [],
   "source": [
    "df.info()"
   ]
  },
  {
   "cell_type": "code",
   "execution_count": null,
   "metadata": {},
   "outputs": [],
   "source": [
    "#px.histogram(df, x='OrganizationID_DisplayEng', y='OccTypeID_DisplayEng') \n",
    "sns.distplot(df[\"OccTypeID_DisplayEng\"])\n"
   ]
  },
  {
   "cell_type": "code",
   "execution_count": null,
   "metadata": {
    "scrolled": true
   },
   "outputs": [],
   "source": [
    "# g = sns.FacetGrid(df,hue='OccTypeID_DisplayEng',palette='Set1',size=8,aspect=2)\n",
    "# g = g.map(plt.hist,'TotalFatalCount', bins=20,alpha=0.5)\n",
    "# plt.legend()"
   ]
  },
  {
   "cell_type": "code",
   "execution_count": null,
   "metadata": {},
   "outputs": [],
   "source": [
    "#dfen.TotalFatalCount"
   ]
  },
  {
   "cell_type": "code",
   "execution_count": null,
   "metadata": {},
   "outputs": [],
   "source": [
    "df.corr('pearson')"
   ]
  },
  {
   "cell_type": "code",
   "execution_count": null,
   "metadata": {},
   "outputs": [],
   "source": [
    "px.scatter(df, x='TotalFatalCount', y=\"OrganizationID_DisplayEng\", \n",
    "                   size='TotalFatalCount', size_max=60)\n",
    "#Get another graph for <100 fatalities"
   ]
  },
  {
   "cell_type": "code",
   "execution_count": null,
   "metadata": {},
   "outputs": [],
   "source": [
    "plt.scatter(df.TotalFatalCount, df.OperationTypeID_DisplayEng)\n",
    "#Get another graph for <100 fatalities"
   ]
  },
  {
   "cell_type": "markdown",
   "metadata": {},
   "source": [
    "### Classify using RFC"
   ]
  },
  {
   "cell_type": "code",
   "execution_count": null,
   "metadata": {},
   "outputs": [],
   "source": [
    "from sklearn.model_selection import train_test_split\n",
    "from sklearn.ensemble import RandomForestClassifier"
   ]
  },
  {
   "cell_type": "code",
   "execution_count": null,
   "metadata": {},
   "outputs": [],
   "source": [
    "from sklearn.preprocessing import LabelEncoder"
   ]
  },
  {
   "cell_type": "code",
   "execution_count": null,
   "metadata": {},
   "outputs": [],
   "source": [
    "df = df.nunique()\n",
    "print(df)"
   ]
  },
  {
   "cell_type": "code",
   "execution_count": null,
   "metadata": {},
   "outputs": [],
   "source": [
    "# x_columns = 14\n",
    "# x = df.iloc[:,0:x_columns].values \n",
    "# y = df.iloc[:,x_columns].values\n",
    "# # #IndexingError: Too many indexers"
   ]
  },
  {
   "cell_type": "code",
   "execution_count": null,
   "metadata": {},
   "outputs": [],
   "source": [
    "#Is target a class?\n",
    "isinstance(df.OccTypeID_DisplayEng, pd.DataFrame)"
   ]
  },
  {
   "cell_type": "code",
   "execution_count": null,
   "metadata": {},
   "outputs": [],
   "source": [
    "x=df.drop('OccTypeID_DisplayEng') #features\n",
    "y=df.OccTypeID_DisplayEng#target"
   ]
  },
  {
   "cell_type": "code",
   "execution_count": null,
   "metadata": {},
   "outputs": [],
   "source": [
    "df.nunique()"
   ]
  },
  {
   "cell_type": "code",
   "execution_count": null,
   "metadata": {},
   "outputs": [],
   "source": [
    "x.shape"
   ]
  },
  {
   "cell_type": "code",
   "execution_count": null,
   "metadata": {},
   "outputs": [],
   "source": [
    "encoder = LabelEncoder()\n",
    "encoder.fit(x)\n",
    "encoded_x = encoder.transform(x)\n",
    "encoder.fit(y)\n",
    "encoded_y = encoder.transform(y)\n",
    "#dummy_y = np_utils.to_categorical(encoded_y,num_classes=7)\n",
    "print(encoded_x)\n",
    "print(encoded_y)"
   ]
  },
  {
   "cell_type": "code",
   "execution_count": null,
   "metadata": {},
   "outputs": [],
   "source": [
    "# unique_y =df['OccTypeID_DisplayEng'].unique()\n",
    "# print(unique_y)"
   ]
  },
  {
   "cell_type": "code",
   "execution_count": null,
   "metadata": {},
   "outputs": [],
   "source": [
    "x_train, x_test, y_train, y_test = train_test_split(x, y, test_size=0.20, random_state=6)"
   ]
  },
  {
   "cell_type": "code",
   "execution_count": null,
   "metadata": {},
   "outputs": [],
   "source": [
    "model = RandomForestClassifier(n_estimators=10, criterion='entropy', random_state=0).fit(x_train, y_train)"
   ]
  },
  {
   "cell_type": "code",
   "execution_count": null,
   "metadata": {},
   "outputs": [],
   "source": [
    "y_pred = model.predict(x_test)"
   ]
  },
  {
   "cell_type": "code",
   "execution_count": null,
   "metadata": {},
   "outputs": [],
   "source": []
  },
  {
   "cell_type": "code",
   "execution_count": null,
   "metadata": {},
   "outputs": [],
   "source": []
  }
 ],
 "metadata": {
  "kernelspec": {
   "display_name": "Python 3",
   "language": "python",
   "name": "python3"
  },
  "language_info": {
   "codemirror_mode": {
    "name": "ipython",
    "version": 3
   },
   "file_extension": ".py",
   "mimetype": "text/x-python",
   "name": "python",
   "nbconvert_exporter": "python",
   "pygments_lexer": "ipython3",
   "version": "3.6.8"
  }
 },
 "nbformat": 4,
 "nbformat_minor": 2
}
