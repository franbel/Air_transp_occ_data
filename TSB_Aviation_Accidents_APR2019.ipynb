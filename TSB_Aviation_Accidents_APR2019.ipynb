{
 "cells": [
  {
   "cell_type": "markdown",
   "metadata": {},
   "source": [
    "### Read and explore the different datasets"
   ]
  },
  {
   "cell_type": "code",
   "execution_count": 1,
   "metadata": {},
   "outputs": [],
   "source": [
    "import pandas as pd\n",
    "import numpy as np\n",
    "import matplotlib.pyplot as plt\n",
    "import quilt\n",
    "import seaborn as sns\n",
    "import missingno as msno\n",
    "import plotly.offline\n",
    "import plotly_express as px\n",
    "\n",
    "#import geopandas as gp\n"
   ]
  },
  {
   "cell_type": "code",
   "execution_count": 2,
   "metadata": {},
   "outputs": [],
   "source": [
    "#pip install cufflinks"
   ]
  },
  {
   "cell_type": "code",
   "execution_count": 3,
   "metadata": {},
   "outputs": [],
   "source": [
    "#pip install plotly_express"
   ]
  },
  {
   "cell_type": "code",
   "execution_count": 4,
   "metadata": {},
   "outputs": [],
   "source": [
    "# import cufflinks\n",
    "# cufflinks.__version__"
   ]
  },
  {
   "cell_type": "code",
   "execution_count": 5,
   "metadata": {},
   "outputs": [],
   "source": [
    "#pip install cufflinks --upgrade"
   ]
  },
  {
   "cell_type": "code",
   "execution_count": 6,
   "metadata": {},
   "outputs": [],
   "source": [
    "#pip install python-quilt"
   ]
  },
  {
   "cell_type": "code",
   "execution_count": 7,
   "metadata": {},
   "outputs": [
    {
     "name": "stderr",
     "output_type": "stream",
     "text": [
      "C:\\ProgramData\\Anaconda3\\envs\\DSMLBC_Py36\\lib\\site-packages\\IPython\\core\\interactiveshell.py:3049: DtypeWarning:\n",
      "\n",
      "Columns (21,22,31,32,34,35,42,43,55,56,71,72,81,98,99,101,102,104,105,107,108,111,112,115,116,118,119,124,125,130,131,135,136,138,139,141,142,152,153,158,159,161,162,170,171,173,174,176,177,188,189,194,195,197,198,200,201,203,204,206,207,209,220,221,228,229,241,242) have mixed types. Specify dtype option on import or set low_memory=False.\n",
      "\n",
      "C:\\ProgramData\\Anaconda3\\envs\\DSMLBC_Py36\\lib\\site-packages\\IPython\\core\\interactiveshell.py:3049: DtypeWarning:\n",
      "\n",
      "Columns (17,42,43,50,88,103,104,106,107,109,110,113,114,119,122,123,137,138,140,141,152,153,155,156,157,159,160,161,163,164,166,167,171,172,174,175,177,178,181,182,187,188,192,193) have mixed types. Specify dtype option on import or set low_memory=False.\n",
      "\n"
     ]
    }
   ],
   "source": [
    "#Read datasets, no description available. ALl files available at http://www.tsb.gc.ca/eng/stats/aviation/data-5.html\n",
    "df1 = pd.read_csv('ASISdb_MDOTW_VW_OCCURRENCE_PUBLIC.csv')\n",
    "df2 = pd.read_csv('ASISdb_MDOTW_VW_AIRCRAFT_PUBLIC.csv')\n",
    "#df3 = pd.read_csv('ASISdb_MDOTW_VW_EVENTS_AND_PHASES_PUBLIC.csv')\n",
    "#df4 = pd.read_csv('ASISdb_MDOTW_VW_EVENTS_AND_PHASES_PUBLIC.csv')"
   ]
  },
  {
   "cell_type": "code",
   "execution_count": 8,
   "metadata": {},
   "outputs": [
    {
     "data": {
      "text/html": [
       "<div>\n",
       "<style scoped>\n",
       "    .dataframe tbody tr th:only-of-type {\n",
       "        vertical-align: middle;\n",
       "    }\n",
       "\n",
       "    .dataframe tbody tr th {\n",
       "        vertical-align: top;\n",
       "    }\n",
       "\n",
       "    .dataframe thead th {\n",
       "        text-align: right;\n",
       "    }\n",
       "</style>\n",
       "<table border=\"1\" class=\"dataframe\">\n",
       "  <thead>\n",
       "    <tr style=\"text-align: right;\">\n",
       "      <th></th>\n",
       "      <th>OccID</th>\n",
       "      <th>OccNo</th>\n",
       "      <th>AirportID</th>\n",
       "      <th>AirportID_AirportName</th>\n",
       "      <th>AirportID_CountryID</th>\n",
       "      <th>AirportID_CountryID_DisplayEng</th>\n",
       "      <th>AirportID_CountryID_DisplayFre</th>\n",
       "      <th>Airport_ProvinceID</th>\n",
       "      <th>AirportID_ProvinceID_DisplayEng</th>\n",
       "      <th>AirportID_ProvinceID_DisplayFre</th>\n",
       "      <th>...</th>\n",
       "      <th>InitialPositionEnum_DisplayFre</th>\n",
       "      <th>FinalPositionEnum</th>\n",
       "      <th>FinalPositionEnum_DisplayEng</th>\n",
       "      <th>FinalPositionEnum_DisplayFre</th>\n",
       "      <th>FullProcedureIND</th>\n",
       "      <th>FullProcedureIND_DisplayEng</th>\n",
       "      <th>FullProcedureIND_DisplayFre</th>\n",
       "      <th>SurfaceContaminationID</th>\n",
       "      <th>SurfaceContaminationID_DisplayEng</th>\n",
       "      <th>SurfaceContaminationID_DisplayFre</th>\n",
       "    </tr>\n",
       "  </thead>\n",
       "  <tbody>\n",
       "    <tr>\n",
       "      <th>0</th>\n",
       "      <td>152828</td>\n",
       "      <td>A19P0071</td>\n",
       "      <td>1984.0</td>\n",
       "      <td>Erik Nielsen Intl</td>\n",
       "      <td>2.0</td>\n",
       "      <td>CANADA</td>\n",
       "      <td>CANADA</td>\n",
       "      <td>24.0</td>\n",
       "      <td>YUKON</td>\n",
       "      <td>YUKON</td>\n",
       "      <td>...</td>\n",
       "      <td>NaN</td>\n",
       "      <td>NaN</td>\n",
       "      <td>NaN</td>\n",
       "      <td>NaN</td>\n",
       "      <td>NaN</td>\n",
       "      <td>NaN</td>\n",
       "      <td>NaN</td>\n",
       "      <td>NaN</td>\n",
       "      <td>NaN</td>\n",
       "      <td>NaN</td>\n",
       "    </tr>\n",
       "    <tr>\n",
       "      <th>1</th>\n",
       "      <td>152827</td>\n",
       "      <td>A19W0070</td>\n",
       "      <td>1984.0</td>\n",
       "      <td>Erik Nielsen Intl</td>\n",
       "      <td>2.0</td>\n",
       "      <td>CANADA</td>\n",
       "      <td>CANADA</td>\n",
       "      <td>24.0</td>\n",
       "      <td>YUKON</td>\n",
       "      <td>YUKON</td>\n",
       "      <td>...</td>\n",
       "      <td>NaN</td>\n",
       "      <td>NaN</td>\n",
       "      <td>NaN</td>\n",
       "      <td>NaN</td>\n",
       "      <td>NaN</td>\n",
       "      <td>NaN</td>\n",
       "      <td>NaN</td>\n",
       "      <td>NaN</td>\n",
       "      <td>NaN</td>\n",
       "      <td>NaN</td>\n",
       "    </tr>\n",
       "    <tr>\n",
       "      <th>2</th>\n",
       "      <td>152827</td>\n",
       "      <td>A19W0070</td>\n",
       "      <td>1984.0</td>\n",
       "      <td>Erik Nielsen Intl</td>\n",
       "      <td>2.0</td>\n",
       "      <td>CANADA</td>\n",
       "      <td>CANADA</td>\n",
       "      <td>24.0</td>\n",
       "      <td>YUKON</td>\n",
       "      <td>YUKON</td>\n",
       "      <td>...</td>\n",
       "      <td>NaN</td>\n",
       "      <td>NaN</td>\n",
       "      <td>NaN</td>\n",
       "      <td>NaN</td>\n",
       "      <td>NaN</td>\n",
       "      <td>NaN</td>\n",
       "      <td>NaN</td>\n",
       "      <td>NaN</td>\n",
       "      <td>NaN</td>\n",
       "      <td>NaN</td>\n",
       "    </tr>\n",
       "    <tr>\n",
       "      <th>3</th>\n",
       "      <td>152826</td>\n",
       "      <td>A19P0070</td>\n",
       "      <td>109.0</td>\n",
       "      <td>(CAMPBELL ISLAND)</td>\n",
       "      <td>2.0</td>\n",
       "      <td>CANADA</td>\n",
       "      <td>CANADA</td>\n",
       "      <td>12.0</td>\n",
       "      <td>BRITISH COLUMBIA</td>\n",
       "      <td>COLOMBIE-BRITANNIQUE</td>\n",
       "      <td>...</td>\n",
       "      <td>NaN</td>\n",
       "      <td>NaN</td>\n",
       "      <td>NaN</td>\n",
       "      <td>NaN</td>\n",
       "      <td>NaN</td>\n",
       "      <td>NaN</td>\n",
       "      <td>NaN</td>\n",
       "      <td>NaN</td>\n",
       "      <td>NaN</td>\n",
       "      <td>NaN</td>\n",
       "    </tr>\n",
       "    <tr>\n",
       "      <th>4</th>\n",
       "      <td>152825</td>\n",
       "      <td>A19P0069</td>\n",
       "      <td>1912.0</td>\n",
       "      <td>Vancouver Intl</td>\n",
       "      <td>2.0</td>\n",
       "      <td>CANADA</td>\n",
       "      <td>CANADA</td>\n",
       "      <td>12.0</td>\n",
       "      <td>BRITISH COLUMBIA</td>\n",
       "      <td>COLOMBIE-BRITANNIQUE</td>\n",
       "      <td>...</td>\n",
       "      <td>NaN</td>\n",
       "      <td>NaN</td>\n",
       "      <td>NaN</td>\n",
       "      <td>NaN</td>\n",
       "      <td>NaN</td>\n",
       "      <td>NaN</td>\n",
       "      <td>NaN</td>\n",
       "      <td>NaN</td>\n",
       "      <td>NaN</td>\n",
       "      <td>NaN</td>\n",
       "    </tr>\n",
       "  </tbody>\n",
       "</table>\n",
       "<p>5 rows × 246 columns</p>\n",
       "</div>"
      ],
      "text/plain": [
       "    OccID     OccNo  AirportID AirportID_AirportName  AirportID_CountryID  \\\n",
       "0  152828  A19P0071     1984.0     Erik Nielsen Intl                  2.0   \n",
       "1  152827  A19W0070     1984.0     Erik Nielsen Intl                  2.0   \n",
       "2  152827  A19W0070     1984.0     Erik Nielsen Intl                  2.0   \n",
       "3  152826  A19P0070      109.0     (CAMPBELL ISLAND)                  2.0   \n",
       "4  152825  A19P0069     1912.0        Vancouver Intl                  2.0   \n",
       "\n",
       "  AirportID_CountryID_DisplayEng AirportID_CountryID_DisplayFre  \\\n",
       "0                         CANADA                         CANADA   \n",
       "1                         CANADA                         CANADA   \n",
       "2                         CANADA                         CANADA   \n",
       "3                         CANADA                         CANADA   \n",
       "4                         CANADA                         CANADA   \n",
       "\n",
       "   Airport_ProvinceID AirportID_ProvinceID_DisplayEng  \\\n",
       "0                24.0                           YUKON   \n",
       "1                24.0                           YUKON   \n",
       "2                24.0                           YUKON   \n",
       "3                12.0                BRITISH COLUMBIA   \n",
       "4                12.0                BRITISH COLUMBIA   \n",
       "\n",
       "  AirportID_ProvinceID_DisplayFre                ...                 \\\n",
       "0                           YUKON                ...                  \n",
       "1                           YUKON                ...                  \n",
       "2                           YUKON                ...                  \n",
       "3            COLOMBIE-BRITANNIQUE                ...                  \n",
       "4            COLOMBIE-BRITANNIQUE                ...                  \n",
       "\n",
       "  InitialPositionEnum_DisplayFre  FinalPositionEnum  \\\n",
       "0                            NaN                NaN   \n",
       "1                            NaN                NaN   \n",
       "2                            NaN                NaN   \n",
       "3                            NaN                NaN   \n",
       "4                            NaN                NaN   \n",
       "\n",
       "   FinalPositionEnum_DisplayEng FinalPositionEnum_DisplayFre FullProcedureIND  \\\n",
       "0                           NaN                          NaN              NaN   \n",
       "1                           NaN                          NaN              NaN   \n",
       "2                           NaN                          NaN              NaN   \n",
       "3                           NaN                          NaN              NaN   \n",
       "4                           NaN                          NaN              NaN   \n",
       "\n",
       "   FullProcedureIND_DisplayEng  FullProcedureIND_DisplayFre  \\\n",
       "0                          NaN                          NaN   \n",
       "1                          NaN                          NaN   \n",
       "2                          NaN                          NaN   \n",
       "3                          NaN                          NaN   \n",
       "4                          NaN                          NaN   \n",
       "\n",
       "  SurfaceContaminationID SurfaceContaminationID_DisplayEng  \\\n",
       "0                    NaN                               NaN   \n",
       "1                    NaN                               NaN   \n",
       "2                    NaN                               NaN   \n",
       "3                    NaN                               NaN   \n",
       "4                    NaN                               NaN   \n",
       "\n",
       "  SurfaceContaminationID_DisplayFre  \n",
       "0                               NaN  \n",
       "1                               NaN  \n",
       "2                               NaN  \n",
       "3                               NaN  \n",
       "4                               NaN  \n",
       "\n",
       "[5 rows x 246 columns]"
      ]
     },
     "execution_count": 8,
     "metadata": {},
     "output_type": "execute_result"
    }
   ],
   "source": [
    "df1.head()"
   ]
  },
  {
   "cell_type": "code",
   "execution_count": 9,
   "metadata": {},
   "outputs": [],
   "source": [
    "#Rename occid\n",
    "\n",
    "df2 = df2.rename(index=str, columns={\"occid\": \"OccID\"})"
   ]
  },
  {
   "cell_type": "code",
   "execution_count": 10,
   "metadata": {},
   "outputs": [
    {
     "data": {
      "text/plain": [
       "(57227, 194)"
      ]
     },
     "execution_count": 10,
     "metadata": {},
     "output_type": "execute_result"
    }
   ],
   "source": [
    "df2.shape"
   ]
  },
  {
   "cell_type": "code",
   "execution_count": 11,
   "metadata": {
    "scrolled": true
   },
   "outputs": [],
   "source": [
    "#df2[df2.columns[df2.isnull().mean()< 0.4]]\n",
    "\n",
    "#df1_.shape\n",
    "\n",
    "#drop FRE!\n"
   ]
  },
  {
   "cell_type": "code",
   "execution_count": 12,
   "metadata": {},
   "outputs": [],
   "source": [
    "#pip install missingno"
   ]
  },
  {
   "cell_type": "code",
   "execution_count": 13,
   "metadata": {
    "scrolled": true
   },
   "outputs": [
    {
     "data": {
      "text/html": [
       "<div>\n",
       "<style scoped>\n",
       "    .dataframe tbody tr th:only-of-type {\n",
       "        vertical-align: middle;\n",
       "    }\n",
       "\n",
       "    .dataframe tbody tr th {\n",
       "        vertical-align: top;\n",
       "    }\n",
       "\n",
       "    .dataframe thead th {\n",
       "        text-align: right;\n",
       "    }\n",
       "</style>\n",
       "<table border=\"1\" class=\"dataframe\">\n",
       "  <thead>\n",
       "    <tr style=\"text-align: right;\">\n",
       "      <th></th>\n",
       "      <th>OccID</th>\n",
       "      <th>OccNo</th>\n",
       "      <th>AcID</th>\n",
       "      <th>AircraftID</th>\n",
       "      <th>AircraftVersion</th>\n",
       "      <th>RowStatus</th>\n",
       "      <th>RegistrationNo</th>\n",
       "      <th>SerialNo</th>\n",
       "      <th>AircraftTypeID</th>\n",
       "      <th>AircraftTypeID_DisplayEng</th>\n",
       "      <th>...</th>\n",
       "      <th>ReqSepTime</th>\n",
       "      <th>ActualSepHorizontal</th>\n",
       "      <th>ActualSepHorizontalEnum</th>\n",
       "      <th>ActualSepHorizontalEnum_DisplayEng</th>\n",
       "      <th>ActualSepHorizontalEnum_DisplayFre</th>\n",
       "      <th>ActualSepVertical</th>\n",
       "      <th>ActualSepTime</th>\n",
       "      <th>AtsUnitInvolvedEnum</th>\n",
       "      <th>AtsUnitInvolvedEnum_DisplayEng</th>\n",
       "      <th>AtsUnitInvolvedEnum_DisplayFre</th>\n",
       "    </tr>\n",
       "  </thead>\n",
       "  <tbody>\n",
       "    <tr>\n",
       "      <th>0</th>\n",
       "      <td>152828</td>\n",
       "      <td>A19P0071</td>\n",
       "      <td>43955</td>\n",
       "      <td>106710</td>\n",
       "      <td>9.0</td>\n",
       "      <td>1</td>\n",
       "      <td>C-GJAZ</td>\n",
       "      <td>15036</td>\n",
       "      <td>1.0</td>\n",
       "      <td>AEROPLANE</td>\n",
       "      <td>...</td>\n",
       "      <td>NaN</td>\n",
       "      <td>NaN</td>\n",
       "      <td>NaN</td>\n",
       "      <td>NaN</td>\n",
       "      <td>NaN</td>\n",
       "      <td>NaN</td>\n",
       "      <td>NaN</td>\n",
       "      <td>NaN</td>\n",
       "      <td>NaN</td>\n",
       "      <td>NaN</td>\n",
       "    </tr>\n",
       "    <tr>\n",
       "      <th>1</th>\n",
       "      <td>152827</td>\n",
       "      <td>A19W0070</td>\n",
       "      <td>67261</td>\n",
       "      <td>131335</td>\n",
       "      <td>2.0</td>\n",
       "      <td>1</td>\n",
       "      <td>C-FANF</td>\n",
       "      <td>27417</td>\n",
       "      <td>1.0</td>\n",
       "      <td>AEROPLANE</td>\n",
       "      <td>...</td>\n",
       "      <td>NaN</td>\n",
       "      <td>NaN</td>\n",
       "      <td>NaN</td>\n",
       "      <td>NaN</td>\n",
       "      <td>NaN</td>\n",
       "      <td>NaN</td>\n",
       "      <td>NaN</td>\n",
       "      <td>NaN</td>\n",
       "      <td>NaN</td>\n",
       "      <td>NaN</td>\n",
       "    </tr>\n",
       "    <tr>\n",
       "      <th>2</th>\n",
       "      <td>152826</td>\n",
       "      <td>A19P0070</td>\n",
       "      <td>67259</td>\n",
       "      <td>131334</td>\n",
       "      <td>2.0</td>\n",
       "      <td>1</td>\n",
       "      <td>C-FQNG</td>\n",
       "      <td>61032</td>\n",
       "      <td>3.0</td>\n",
       "      <td>HELICOPTER</td>\n",
       "      <td>...</td>\n",
       "      <td>NaN</td>\n",
       "      <td>NaN</td>\n",
       "      <td>NaN</td>\n",
       "      <td>NaN</td>\n",
       "      <td>NaN</td>\n",
       "      <td>NaN</td>\n",
       "      <td>NaN</td>\n",
       "      <td>NaN</td>\n",
       "      <td>NaN</td>\n",
       "      <td>NaN</td>\n",
       "    </tr>\n",
       "    <tr>\n",
       "      <th>3</th>\n",
       "      <td>152825</td>\n",
       "      <td>A19P0069</td>\n",
       "      <td>65985</td>\n",
       "      <td>130580</td>\n",
       "      <td>2.0</td>\n",
       "      <td>1</td>\n",
       "      <td>N403UA</td>\n",
       "      <td>442</td>\n",
       "      <td>1.0</td>\n",
       "      <td>AEROPLANE</td>\n",
       "      <td>...</td>\n",
       "      <td>NaN</td>\n",
       "      <td>NaN</td>\n",
       "      <td>NaN</td>\n",
       "      <td>NaN</td>\n",
       "      <td>NaN</td>\n",
       "      <td>NaN</td>\n",
       "      <td>NaN</td>\n",
       "      <td>NaN</td>\n",
       "      <td>NaN</td>\n",
       "      <td>NaN</td>\n",
       "    </tr>\n",
       "    <tr>\n",
       "      <th>4</th>\n",
       "      <td>152822</td>\n",
       "      <td>A19C0063</td>\n",
       "      <td>43825</td>\n",
       "      <td>106425</td>\n",
       "      <td>2.0</td>\n",
       "      <td>1</td>\n",
       "      <td>C-FARE</td>\n",
       "      <td>53112</td>\n",
       "      <td>3.0</td>\n",
       "      <td>HELICOPTER</td>\n",
       "      <td>...</td>\n",
       "      <td>NaN</td>\n",
       "      <td>NaN</td>\n",
       "      <td>NaN</td>\n",
       "      <td>NaN</td>\n",
       "      <td>NaN</td>\n",
       "      <td>NaN</td>\n",
       "      <td>NaN</td>\n",
       "      <td>NaN</td>\n",
       "      <td>NaN</td>\n",
       "      <td>NaN</td>\n",
       "    </tr>\n",
       "  </tbody>\n",
       "</table>\n",
       "<p>5 rows × 194 columns</p>\n",
       "</div>"
      ],
      "text/plain": [
       "    OccID     OccNo   AcID  AircraftID  AircraftVersion  RowStatus  \\\n",
       "0  152828  A19P0071  43955      106710              9.0          1   \n",
       "1  152827  A19W0070  67261      131335              2.0          1   \n",
       "2  152826  A19P0070  67259      131334              2.0          1   \n",
       "3  152825  A19P0069  65985      130580              2.0          1   \n",
       "4  152822  A19C0063  43825      106425              2.0          1   \n",
       "\n",
       "  RegistrationNo SerialNo  AircraftTypeID AircraftTypeID_DisplayEng  \\\n",
       "0         C-GJAZ    15036             1.0                 AEROPLANE   \n",
       "1         C-FANF    27417             1.0                 AEROPLANE   \n",
       "2         C-FQNG    61032             3.0                HELICOPTER   \n",
       "3         N403UA      442             1.0                 AEROPLANE   \n",
       "4         C-FARE    53112             3.0                HELICOPTER   \n",
       "\n",
       "               ...               ReqSepTime  ActualSepHorizontal  \\\n",
       "0              ...                      NaN                  NaN   \n",
       "1              ...                      NaN                  NaN   \n",
       "2              ...                      NaN                  NaN   \n",
       "3              ...                      NaN                  NaN   \n",
       "4              ...                      NaN                  NaN   \n",
       "\n",
       "  ActualSepHorizontalEnum ActualSepHorizontalEnum_DisplayEng  \\\n",
       "0                     NaN                                NaN   \n",
       "1                     NaN                                NaN   \n",
       "2                     NaN                                NaN   \n",
       "3                     NaN                                NaN   \n",
       "4                     NaN                                NaN   \n",
       "\n",
       "   ActualSepHorizontalEnum_DisplayFre ActualSepVertical ActualSepTime  \\\n",
       "0                                 NaN               NaN           NaN   \n",
       "1                                 NaN               NaN           NaN   \n",
       "2                                 NaN               NaN           NaN   \n",
       "3                                 NaN               NaN           NaN   \n",
       "4                                 NaN               NaN           NaN   \n",
       "\n",
       "  AtsUnitInvolvedEnum  AtsUnitInvolvedEnum_DisplayEng  \\\n",
       "0                 NaN                             NaN   \n",
       "1                 NaN                             NaN   \n",
       "2                 NaN                             NaN   \n",
       "3                 NaN                             NaN   \n",
       "4                 NaN                             NaN   \n",
       "\n",
       "  AtsUnitInvolvedEnum_DisplayFre  \n",
       "0                            NaN  \n",
       "1                            NaN  \n",
       "2                            NaN  \n",
       "3                            NaN  \n",
       "4                            NaN  \n",
       "\n",
       "[5 rows x 194 columns]"
      ]
     },
     "execution_count": 13,
     "metadata": {},
     "output_type": "execute_result"
    }
   ],
   "source": [
    "df2.head()"
   ]
  },
  {
   "cell_type": "code",
   "execution_count": 14,
   "metadata": {},
   "outputs": [
    {
     "data": {
      "text/plain": [
       "Index(['OccID', 'OccNo', 'AcID', 'AircraftID', 'AircraftVersion', 'RowStatus',\n",
       "       'RegistrationNo', 'SerialNo', 'AircraftTypeID',\n",
       "       'AircraftTypeID_DisplayEng',\n",
       "       ...\n",
       "       'ReqSepTime', 'ActualSepHorizontal', 'ActualSepHorizontalEnum',\n",
       "       'ActualSepHorizontalEnum_DisplayEng',\n",
       "       'ActualSepHorizontalEnum_DisplayFre', 'ActualSepVertical',\n",
       "       'ActualSepTime', 'AtsUnitInvolvedEnum',\n",
       "       'AtsUnitInvolvedEnum_DisplayEng', 'AtsUnitInvolvedEnum_DisplayFre'],\n",
       "      dtype='object', length=194)"
      ]
     },
     "execution_count": 14,
     "metadata": {},
     "output_type": "execute_result"
    }
   ],
   "source": [
    "df2.columns"
   ]
  },
  {
   "cell_type": "code",
   "execution_count": 15,
   "metadata": {},
   "outputs": [
    {
     "name": "stdout",
     "output_type": "stream",
     "text": [
      "43854\n"
     ]
    }
   ],
   "source": [
    "df2u = df2.OccID.nunique()\n",
    "print (df2u)"
   ]
  },
  {
   "cell_type": "code",
   "execution_count": 16,
   "metadata": {
    "scrolled": true
   },
   "outputs": [],
   "source": [
    "# df1_.reset_index().drop_duplicates().set_index(['OccId']) Doesn't work!"
   ]
  },
  {
   "cell_type": "code",
   "execution_count": 17,
   "metadata": {},
   "outputs": [
    {
     "data": {
      "text/plain": [
       "(47226, 246)"
      ]
     },
     "execution_count": 17,
     "metadata": {},
     "output_type": "execute_result"
    }
   ],
   "source": [
    "df1.shape"
   ]
  },
  {
   "cell_type": "code",
   "execution_count": 18,
   "metadata": {},
   "outputs": [
    {
     "data": {
      "text/html": [
       "<div>\n",
       "<style scoped>\n",
       "    .dataframe tbody tr th:only-of-type {\n",
       "        vertical-align: middle;\n",
       "    }\n",
       "\n",
       "    .dataframe tbody tr th {\n",
       "        vertical-align: top;\n",
       "    }\n",
       "\n",
       "    .dataframe thead th {\n",
       "        text-align: right;\n",
       "    }\n",
       "</style>\n",
       "<table border=\"1\" class=\"dataframe\">\n",
       "  <thead>\n",
       "    <tr style=\"text-align: right;\">\n",
       "      <th></th>\n",
       "      <th>OccID</th>\n",
       "      <th>OccNo</th>\n",
       "      <th>AirportID</th>\n",
       "      <th>AirportID_AirportName</th>\n",
       "      <th>AirportID_CountryID</th>\n",
       "      <th>AirportID_CountryID_DisplayEng</th>\n",
       "      <th>AirportID_CountryID_DisplayFre</th>\n",
       "      <th>Airport_ProvinceID</th>\n",
       "      <th>AirportID_ProvinceID_DisplayEng</th>\n",
       "      <th>AirportID_ProvinceID_DisplayFre</th>\n",
       "      <th>...</th>\n",
       "      <th>InitialPositionEnum_DisplayFre</th>\n",
       "      <th>FinalPositionEnum</th>\n",
       "      <th>FinalPositionEnum_DisplayEng</th>\n",
       "      <th>FinalPositionEnum_DisplayFre</th>\n",
       "      <th>FullProcedureIND</th>\n",
       "      <th>FullProcedureIND_DisplayEng</th>\n",
       "      <th>FullProcedureIND_DisplayFre</th>\n",
       "      <th>SurfaceContaminationID</th>\n",
       "      <th>SurfaceContaminationID_DisplayEng</th>\n",
       "      <th>SurfaceContaminationID_DisplayFre</th>\n",
       "    </tr>\n",
       "  </thead>\n",
       "  <tbody>\n",
       "    <tr>\n",
       "      <th>0</th>\n",
       "      <td>152828</td>\n",
       "      <td>A19P0071</td>\n",
       "      <td>1984.0</td>\n",
       "      <td>Erik Nielsen Intl</td>\n",
       "      <td>2.0</td>\n",
       "      <td>CANADA</td>\n",
       "      <td>CANADA</td>\n",
       "      <td>24.0</td>\n",
       "      <td>YUKON</td>\n",
       "      <td>YUKON</td>\n",
       "      <td>...</td>\n",
       "      <td>NaN</td>\n",
       "      <td>NaN</td>\n",
       "      <td>NaN</td>\n",
       "      <td>NaN</td>\n",
       "      <td>NaN</td>\n",
       "      <td>NaN</td>\n",
       "      <td>NaN</td>\n",
       "      <td>NaN</td>\n",
       "      <td>NaN</td>\n",
       "      <td>NaN</td>\n",
       "    </tr>\n",
       "    <tr>\n",
       "      <th>1</th>\n",
       "      <td>152827</td>\n",
       "      <td>A19W0070</td>\n",
       "      <td>1984.0</td>\n",
       "      <td>Erik Nielsen Intl</td>\n",
       "      <td>2.0</td>\n",
       "      <td>CANADA</td>\n",
       "      <td>CANADA</td>\n",
       "      <td>24.0</td>\n",
       "      <td>YUKON</td>\n",
       "      <td>YUKON</td>\n",
       "      <td>...</td>\n",
       "      <td>NaN</td>\n",
       "      <td>NaN</td>\n",
       "      <td>NaN</td>\n",
       "      <td>NaN</td>\n",
       "      <td>NaN</td>\n",
       "      <td>NaN</td>\n",
       "      <td>NaN</td>\n",
       "      <td>NaN</td>\n",
       "      <td>NaN</td>\n",
       "      <td>NaN</td>\n",
       "    </tr>\n",
       "    <tr>\n",
       "      <th>2</th>\n",
       "      <td>152827</td>\n",
       "      <td>A19W0070</td>\n",
       "      <td>1984.0</td>\n",
       "      <td>Erik Nielsen Intl</td>\n",
       "      <td>2.0</td>\n",
       "      <td>CANADA</td>\n",
       "      <td>CANADA</td>\n",
       "      <td>24.0</td>\n",
       "      <td>YUKON</td>\n",
       "      <td>YUKON</td>\n",
       "      <td>...</td>\n",
       "      <td>NaN</td>\n",
       "      <td>NaN</td>\n",
       "      <td>NaN</td>\n",
       "      <td>NaN</td>\n",
       "      <td>NaN</td>\n",
       "      <td>NaN</td>\n",
       "      <td>NaN</td>\n",
       "      <td>NaN</td>\n",
       "      <td>NaN</td>\n",
       "      <td>NaN</td>\n",
       "    </tr>\n",
       "    <tr>\n",
       "      <th>3</th>\n",
       "      <td>152826</td>\n",
       "      <td>A19P0070</td>\n",
       "      <td>109.0</td>\n",
       "      <td>(CAMPBELL ISLAND)</td>\n",
       "      <td>2.0</td>\n",
       "      <td>CANADA</td>\n",
       "      <td>CANADA</td>\n",
       "      <td>12.0</td>\n",
       "      <td>BRITISH COLUMBIA</td>\n",
       "      <td>COLOMBIE-BRITANNIQUE</td>\n",
       "      <td>...</td>\n",
       "      <td>NaN</td>\n",
       "      <td>NaN</td>\n",
       "      <td>NaN</td>\n",
       "      <td>NaN</td>\n",
       "      <td>NaN</td>\n",
       "      <td>NaN</td>\n",
       "      <td>NaN</td>\n",
       "      <td>NaN</td>\n",
       "      <td>NaN</td>\n",
       "      <td>NaN</td>\n",
       "    </tr>\n",
       "    <tr>\n",
       "      <th>4</th>\n",
       "      <td>152825</td>\n",
       "      <td>A19P0069</td>\n",
       "      <td>1912.0</td>\n",
       "      <td>Vancouver Intl</td>\n",
       "      <td>2.0</td>\n",
       "      <td>CANADA</td>\n",
       "      <td>CANADA</td>\n",
       "      <td>12.0</td>\n",
       "      <td>BRITISH COLUMBIA</td>\n",
       "      <td>COLOMBIE-BRITANNIQUE</td>\n",
       "      <td>...</td>\n",
       "      <td>NaN</td>\n",
       "      <td>NaN</td>\n",
       "      <td>NaN</td>\n",
       "      <td>NaN</td>\n",
       "      <td>NaN</td>\n",
       "      <td>NaN</td>\n",
       "      <td>NaN</td>\n",
       "      <td>NaN</td>\n",
       "      <td>NaN</td>\n",
       "      <td>NaN</td>\n",
       "    </tr>\n",
       "  </tbody>\n",
       "</table>\n",
       "<p>5 rows × 246 columns</p>\n",
       "</div>"
      ],
      "text/plain": [
       "    OccID     OccNo  AirportID AirportID_AirportName  AirportID_CountryID  \\\n",
       "0  152828  A19P0071     1984.0     Erik Nielsen Intl                  2.0   \n",
       "1  152827  A19W0070     1984.0     Erik Nielsen Intl                  2.0   \n",
       "2  152827  A19W0070     1984.0     Erik Nielsen Intl                  2.0   \n",
       "3  152826  A19P0070      109.0     (CAMPBELL ISLAND)                  2.0   \n",
       "4  152825  A19P0069     1912.0        Vancouver Intl                  2.0   \n",
       "\n",
       "  AirportID_CountryID_DisplayEng AirportID_CountryID_DisplayFre  \\\n",
       "0                         CANADA                         CANADA   \n",
       "1                         CANADA                         CANADA   \n",
       "2                         CANADA                         CANADA   \n",
       "3                         CANADA                         CANADA   \n",
       "4                         CANADA                         CANADA   \n",
       "\n",
       "   Airport_ProvinceID AirportID_ProvinceID_DisplayEng  \\\n",
       "0                24.0                           YUKON   \n",
       "1                24.0                           YUKON   \n",
       "2                24.0                           YUKON   \n",
       "3                12.0                BRITISH COLUMBIA   \n",
       "4                12.0                BRITISH COLUMBIA   \n",
       "\n",
       "  AirportID_ProvinceID_DisplayFre                ...                 \\\n",
       "0                           YUKON                ...                  \n",
       "1                           YUKON                ...                  \n",
       "2                           YUKON                ...                  \n",
       "3            COLOMBIE-BRITANNIQUE                ...                  \n",
       "4            COLOMBIE-BRITANNIQUE                ...                  \n",
       "\n",
       "  InitialPositionEnum_DisplayFre  FinalPositionEnum  \\\n",
       "0                            NaN                NaN   \n",
       "1                            NaN                NaN   \n",
       "2                            NaN                NaN   \n",
       "3                            NaN                NaN   \n",
       "4                            NaN                NaN   \n",
       "\n",
       "   FinalPositionEnum_DisplayEng FinalPositionEnum_DisplayFre FullProcedureIND  \\\n",
       "0                           NaN                          NaN              NaN   \n",
       "1                           NaN                          NaN              NaN   \n",
       "2                           NaN                          NaN              NaN   \n",
       "3                           NaN                          NaN              NaN   \n",
       "4                           NaN                          NaN              NaN   \n",
       "\n",
       "   FullProcedureIND_DisplayEng  FullProcedureIND_DisplayFre  \\\n",
       "0                          NaN                          NaN   \n",
       "1                          NaN                          NaN   \n",
       "2                          NaN                          NaN   \n",
       "3                          NaN                          NaN   \n",
       "4                          NaN                          NaN   \n",
       "\n",
       "  SurfaceContaminationID SurfaceContaminationID_DisplayEng  \\\n",
       "0                    NaN                               NaN   \n",
       "1                    NaN                               NaN   \n",
       "2                    NaN                               NaN   \n",
       "3                    NaN                               NaN   \n",
       "4                    NaN                               NaN   \n",
       "\n",
       "  SurfaceContaminationID_DisplayFre  \n",
       "0                               NaN  \n",
       "1                               NaN  \n",
       "2                               NaN  \n",
       "3                               NaN  \n",
       "4                               NaN  \n",
       "\n",
       "[5 rows x 246 columns]"
      ]
     },
     "execution_count": 18,
     "metadata": {},
     "output_type": "execute_result"
    }
   ],
   "source": [
    "df1.head()"
   ]
  },
  {
   "cell_type": "code",
   "execution_count": 19,
   "metadata": {},
   "outputs": [
    {
     "data": {
      "text/plain": [
       "Index(['OccID', 'OccNo', 'AirportID', 'AirportID_AirportName',\n",
       "       'AirportID_CountryID', 'AirportID_CountryID_DisplayEng',\n",
       "       'AirportID_CountryID_DisplayFre', 'Airport_ProvinceID',\n",
       "       'AirportID_ProvinceID_DisplayEng', 'AirportID_ProvinceID_DisplayFre',\n",
       "       ...\n",
       "       'InitialPositionEnum_DisplayFre', 'FinalPositionEnum',\n",
       "       'FinalPositionEnum_DisplayEng', 'FinalPositionEnum_DisplayFre',\n",
       "       'FullProcedureIND', 'FullProcedureIND_DisplayEng',\n",
       "       'FullProcedureIND_DisplayFre', 'SurfaceContaminationID',\n",
       "       'SurfaceContaminationID_DisplayEng',\n",
       "       'SurfaceContaminationID_DisplayFre'],\n",
       "      dtype='object', length=246)"
      ]
     },
     "execution_count": 19,
     "metadata": {},
     "output_type": "execute_result"
    }
   ],
   "source": [
    "df1.columns"
   ]
  },
  {
   "cell_type": "code",
   "execution_count": 20,
   "metadata": {},
   "outputs": [],
   "source": [
    "df1u = df1.OccID.nunique()"
   ]
  },
  {
   "cell_type": "code",
   "execution_count": 21,
   "metadata": {
    "scrolled": true
   },
   "outputs": [],
   "source": [
    "#df3.head()"
   ]
  },
  {
   "cell_type": "code",
   "execution_count": 22,
   "metadata": {},
   "outputs": [],
   "source": [
    "#df3.shape"
   ]
  },
  {
   "cell_type": "code",
   "execution_count": 23,
   "metadata": {},
   "outputs": [],
   "source": [
    "#df3u = df3.OccID.nunique()"
   ]
  },
  {
   "cell_type": "code",
   "execution_count": null,
   "metadata": {
    "scrolled": true
   },
   "outputs": [],
   "source": [
    "#df4.head()"
   ]
  },
  {
   "cell_type": "code",
   "execution_count": null,
   "metadata": {},
   "outputs": [],
   "source": [
    "#df4.shape"
   ]
  },
  {
   "cell_type": "code",
   "execution_count": null,
   "metadata": {},
   "outputs": [],
   "source": [
    "#df4u = df4.OccID.nunique()"
   ]
  },
  {
   "cell_type": "code",
   "execution_count": null,
   "metadata": {},
   "outputs": [
    {
     "data": {
      "text/html": [
       "<div>\n",
       "<style scoped>\n",
       "    .dataframe tbody tr th:only-of-type {\n",
       "        vertical-align: middle;\n",
       "    }\n",
       "\n",
       "    .dataframe tbody tr th {\n",
       "        vertical-align: top;\n",
       "    }\n",
       "\n",
       "    .dataframe thead th {\n",
       "        text-align: right;\n",
       "    }\n",
       "</style>\n",
       "<table border=\"1\" class=\"dataframe\">\n",
       "  <thead>\n",
       "    <tr style=\"text-align: right;\">\n",
       "      <th></th>\n",
       "      <th>Dataset</th>\n",
       "      <th>Unique</th>\n",
       "    </tr>\n",
       "  </thead>\n",
       "  <tbody>\n",
       "    <tr>\n",
       "      <th>0</th>\n",
       "      <td>AC</td>\n",
       "      <td>43855</td>\n",
       "    </tr>\n",
       "    <tr>\n",
       "      <th>1</th>\n",
       "      <td>EVE</td>\n",
       "      <td>43854</td>\n",
       "    </tr>\n",
       "  </tbody>\n",
       "</table>\n",
       "</div>"
      ],
      "text/plain": [
       "  Dataset  Unique\n",
       "0      AC   43855\n",
       "1     EVE   43854"
      ]
     },
     "execution_count": 27,
     "metadata": {},
     "output_type": "execute_result"
    }
   ],
   "source": [
    "unique_ = pd.DataFrame({'Dataset' :[\"AC\",\"EVE\"],#\"OCC\",\"SUR\"], \n",
    "                        \"Unique\":[df1u,df2u]})#df3u,df4u\n",
    "unique_.sort_values(by=\"Unique\", ascending=False)"
   ]
  },
  {
   "cell_type": "markdown",
   "metadata": {},
   "source": [
    "#### One feature seems common and can be used as keys, merge all datasets into one"
   ]
  },
  {
   "cell_type": "code",
   "execution_count": null,
   "metadata": {},
   "outputs": [],
   "source": [
    "#dfs = [df.set_index(['OccID']) for df in [df1, df2]]\n",
    "\n",
    "\n",
    "# dfc_ = reduce(lambda left, right: pd.merge((left,right, on=['OccID'], how='outer', indicator=True)\n",
    "#      .query('_merge != \"both\"')\n",
    "#      .drop('_merge', 1),  dfs)\n",
    "\n",
    "# (left.merge(right, on='key', how='outer', indicator=True)\n",
    "#      .query('_merge != \"both\"')\n",
    "#      .drop('_merge', 1))"
   ]
  },
  {
   "cell_type": "code",
   "execution_count": null,
   "metadata": {},
   "outputs": [],
   "source": [
    "dfm = df1.merge(df2, how='left', left_on=('OccID','OccNo'), right_on=('OccID','OccNo'))"
   ]
  },
  {
   "cell_type": "code",
   "execution_count": null,
   "metadata": {},
   "outputs": [],
   "source": [
    "#dfm.TotalFatalCount"
   ]
  },
  {
   "cell_type": "code",
   "execution_count": null,
   "metadata": {},
   "outputs": [],
   "source": [
    "# from functools import reduce\n",
    "# dfm = reduce(lambda left,right: pd.merge(left,right, on='OccID',how='inner'), dfs)"
   ]
  },
  {
   "cell_type": "code",
   "execution_count": null,
   "metadata": {},
   "outputs": [
    {
     "data": {
      "text/plain": [
       "(68258, 438)"
      ]
     },
     "execution_count": 32,
     "metadata": {},
     "output_type": "execute_result"
    }
   ],
   "source": [
    "dfm.shape"
   ]
  },
  {
   "cell_type": "code",
   "execution_count": null,
   "metadata": {},
   "outputs": [
    {
     "data": {
      "text/html": [
       "<div>\n",
       "<style scoped>\n",
       "    .dataframe tbody tr th:only-of-type {\n",
       "        vertical-align: middle;\n",
       "    }\n",
       "\n",
       "    .dataframe tbody tr th {\n",
       "        vertical-align: top;\n",
       "    }\n",
       "\n",
       "    .dataframe thead th {\n",
       "        text-align: right;\n",
       "    }\n",
       "</style>\n",
       "<table border=\"1\" class=\"dataframe\">\n",
       "  <thead>\n",
       "    <tr style=\"text-align: right;\">\n",
       "      <th></th>\n",
       "      <th>OccID</th>\n",
       "      <th>OccNo</th>\n",
       "      <th>AirportID</th>\n",
       "      <th>AirportID_AirportName</th>\n",
       "      <th>AirportID_CountryID</th>\n",
       "      <th>AirportID_CountryID_DisplayEng</th>\n",
       "      <th>AirportID_CountryID_DisplayFre</th>\n",
       "      <th>Airport_ProvinceID</th>\n",
       "      <th>AirportID_ProvinceID_DisplayEng</th>\n",
       "      <th>AirportID_ProvinceID_DisplayFre</th>\n",
       "      <th>...</th>\n",
       "      <th>ReqSepTime</th>\n",
       "      <th>ActualSepHorizontal</th>\n",
       "      <th>ActualSepHorizontalEnum</th>\n",
       "      <th>ActualSepHorizontalEnum_DisplayEng</th>\n",
       "      <th>ActualSepHorizontalEnum_DisplayFre</th>\n",
       "      <th>ActualSepVertical</th>\n",
       "      <th>ActualSepTime</th>\n",
       "      <th>AtsUnitInvolvedEnum</th>\n",
       "      <th>AtsUnitInvolvedEnum_DisplayEng</th>\n",
       "      <th>AtsUnitInvolvedEnum_DisplayFre</th>\n",
       "    </tr>\n",
       "  </thead>\n",
       "  <tbody>\n",
       "    <tr>\n",
       "      <th>0</th>\n",
       "      <td>152828</td>\n",
       "      <td>A19P0071</td>\n",
       "      <td>1984.0</td>\n",
       "      <td>Erik Nielsen Intl</td>\n",
       "      <td>2.0</td>\n",
       "      <td>CANADA</td>\n",
       "      <td>CANADA</td>\n",
       "      <td>24.0</td>\n",
       "      <td>YUKON</td>\n",
       "      <td>YUKON</td>\n",
       "      <td>...</td>\n",
       "      <td>NaN</td>\n",
       "      <td>NaN</td>\n",
       "      <td>NaN</td>\n",
       "      <td>NaN</td>\n",
       "      <td>NaN</td>\n",
       "      <td>NaN</td>\n",
       "      <td>NaN</td>\n",
       "      <td>NaN</td>\n",
       "      <td>NaN</td>\n",
       "      <td>NaN</td>\n",
       "    </tr>\n",
       "    <tr>\n",
       "      <th>1</th>\n",
       "      <td>152827</td>\n",
       "      <td>A19W0070</td>\n",
       "      <td>1984.0</td>\n",
       "      <td>Erik Nielsen Intl</td>\n",
       "      <td>2.0</td>\n",
       "      <td>CANADA</td>\n",
       "      <td>CANADA</td>\n",
       "      <td>24.0</td>\n",
       "      <td>YUKON</td>\n",
       "      <td>YUKON</td>\n",
       "      <td>...</td>\n",
       "      <td>NaN</td>\n",
       "      <td>NaN</td>\n",
       "      <td>NaN</td>\n",
       "      <td>NaN</td>\n",
       "      <td>NaN</td>\n",
       "      <td>NaN</td>\n",
       "      <td>NaN</td>\n",
       "      <td>NaN</td>\n",
       "      <td>NaN</td>\n",
       "      <td>NaN</td>\n",
       "    </tr>\n",
       "    <tr>\n",
       "      <th>2</th>\n",
       "      <td>152827</td>\n",
       "      <td>A19W0070</td>\n",
       "      <td>1984.0</td>\n",
       "      <td>Erik Nielsen Intl</td>\n",
       "      <td>2.0</td>\n",
       "      <td>CANADA</td>\n",
       "      <td>CANADA</td>\n",
       "      <td>24.0</td>\n",
       "      <td>YUKON</td>\n",
       "      <td>YUKON</td>\n",
       "      <td>...</td>\n",
       "      <td>NaN</td>\n",
       "      <td>NaN</td>\n",
       "      <td>NaN</td>\n",
       "      <td>NaN</td>\n",
       "      <td>NaN</td>\n",
       "      <td>NaN</td>\n",
       "      <td>NaN</td>\n",
       "      <td>NaN</td>\n",
       "      <td>NaN</td>\n",
       "      <td>NaN</td>\n",
       "    </tr>\n",
       "    <tr>\n",
       "      <th>3</th>\n",
       "      <td>152826</td>\n",
       "      <td>A19P0070</td>\n",
       "      <td>109.0</td>\n",
       "      <td>(CAMPBELL ISLAND)</td>\n",
       "      <td>2.0</td>\n",
       "      <td>CANADA</td>\n",
       "      <td>CANADA</td>\n",
       "      <td>12.0</td>\n",
       "      <td>BRITISH COLUMBIA</td>\n",
       "      <td>COLOMBIE-BRITANNIQUE</td>\n",
       "      <td>...</td>\n",
       "      <td>NaN</td>\n",
       "      <td>NaN</td>\n",
       "      <td>NaN</td>\n",
       "      <td>NaN</td>\n",
       "      <td>NaN</td>\n",
       "      <td>NaN</td>\n",
       "      <td>NaN</td>\n",
       "      <td>NaN</td>\n",
       "      <td>NaN</td>\n",
       "      <td>NaN</td>\n",
       "    </tr>\n",
       "    <tr>\n",
       "      <th>4</th>\n",
       "      <td>152825</td>\n",
       "      <td>A19P0069</td>\n",
       "      <td>1912.0</td>\n",
       "      <td>Vancouver Intl</td>\n",
       "      <td>2.0</td>\n",
       "      <td>CANADA</td>\n",
       "      <td>CANADA</td>\n",
       "      <td>12.0</td>\n",
       "      <td>BRITISH COLUMBIA</td>\n",
       "      <td>COLOMBIE-BRITANNIQUE</td>\n",
       "      <td>...</td>\n",
       "      <td>NaN</td>\n",
       "      <td>NaN</td>\n",
       "      <td>NaN</td>\n",
       "      <td>NaN</td>\n",
       "      <td>NaN</td>\n",
       "      <td>NaN</td>\n",
       "      <td>NaN</td>\n",
       "      <td>NaN</td>\n",
       "      <td>NaN</td>\n",
       "      <td>NaN</td>\n",
       "    </tr>\n",
       "  </tbody>\n",
       "</table>\n",
       "<p>5 rows × 438 columns</p>\n",
       "</div>"
      ],
      "text/plain": [
       "    OccID     OccNo  AirportID AirportID_AirportName  AirportID_CountryID  \\\n",
       "0  152828  A19P0071     1984.0     Erik Nielsen Intl                  2.0   \n",
       "1  152827  A19W0070     1984.0     Erik Nielsen Intl                  2.0   \n",
       "2  152827  A19W0070     1984.0     Erik Nielsen Intl                  2.0   \n",
       "3  152826  A19P0070      109.0     (CAMPBELL ISLAND)                  2.0   \n",
       "4  152825  A19P0069     1912.0        Vancouver Intl                  2.0   \n",
       "\n",
       "  AirportID_CountryID_DisplayEng AirportID_CountryID_DisplayFre  \\\n",
       "0                         CANADA                         CANADA   \n",
       "1                         CANADA                         CANADA   \n",
       "2                         CANADA                         CANADA   \n",
       "3                         CANADA                         CANADA   \n",
       "4                         CANADA                         CANADA   \n",
       "\n",
       "   Airport_ProvinceID AirportID_ProvinceID_DisplayEng  \\\n",
       "0                24.0                           YUKON   \n",
       "1                24.0                           YUKON   \n",
       "2                24.0                           YUKON   \n",
       "3                12.0                BRITISH COLUMBIA   \n",
       "4                12.0                BRITISH COLUMBIA   \n",
       "\n",
       "  AirportID_ProvinceID_DisplayFre              ...               ReqSepTime  \\\n",
       "0                           YUKON              ...                      NaN   \n",
       "1                           YUKON              ...                      NaN   \n",
       "2                           YUKON              ...                      NaN   \n",
       "3            COLOMBIE-BRITANNIQUE              ...                      NaN   \n",
       "4            COLOMBIE-BRITANNIQUE              ...                      NaN   \n",
       "\n",
       "   ActualSepHorizontal  ActualSepHorizontalEnum  \\\n",
       "0                  NaN                      NaN   \n",
       "1                  NaN                      NaN   \n",
       "2                  NaN                      NaN   \n",
       "3                  NaN                      NaN   \n",
       "4                  NaN                      NaN   \n",
       "\n",
       "  ActualSepHorizontalEnum_DisplayEng ActualSepHorizontalEnum_DisplayFre  \\\n",
       "0                                NaN                                NaN   \n",
       "1                                NaN                                NaN   \n",
       "2                                NaN                                NaN   \n",
       "3                                NaN                                NaN   \n",
       "4                                NaN                                NaN   \n",
       "\n",
       "   ActualSepVertical  ActualSepTime AtsUnitInvolvedEnum  \\\n",
       "0                NaN            NaN                 NaN   \n",
       "1                NaN            NaN                 NaN   \n",
       "2                NaN            NaN                 NaN   \n",
       "3                NaN            NaN                 NaN   \n",
       "4                NaN            NaN                 NaN   \n",
       "\n",
       "  AtsUnitInvolvedEnum_DisplayEng AtsUnitInvolvedEnum_DisplayFre  \n",
       "0                            NaN                            NaN  \n",
       "1                            NaN                            NaN  \n",
       "2                            NaN                            NaN  \n",
       "3                            NaN                            NaN  \n",
       "4                            NaN                            NaN  \n",
       "\n",
       "[5 rows x 438 columns]"
      ]
     },
     "execution_count": 33,
     "metadata": {},
     "output_type": "execute_result"
    }
   ],
   "source": [
    "dfm.head()"
   ]
  },
  {
   "cell_type": "code",
   "execution_count": null,
   "metadata": {},
   "outputs": [
    {
     "data": {
      "text/plain": [
       "19197690"
      ]
     },
     "execution_count": 34,
     "metadata": {},
     "output_type": "execute_result"
    }
   ],
   "source": [
    "#Total of missing values\n",
    "\n",
    "dfm.isnull().sum().sum()"
   ]
  },
  {
   "cell_type": "code",
   "execution_count": null,
   "metadata": {},
   "outputs": [
    {
     "name": "stdout",
     "output_type": "stream",
     "text": [
      "['TotalFatalCount']\n"
     ]
    }
   ],
   "source": [
    "fatal_col=[col for col in dfm.columns if 'Fatal' in col]\n",
    "#print (list(dfm.columns))\n",
    "print (fatal_col)"
   ]
  },
  {
   "cell_type": "code",
   "execution_count": null,
   "metadata": {},
   "outputs": [],
   "source": [
    "#Remove columns with >50% blank or null\n",
    "dfd = dfm.loc[:, dfm.isin([' ','NULL']).mean() <= .5]"
   ]
  },
  {
   "cell_type": "code",
   "execution_count": null,
   "metadata": {},
   "outputs": [],
   "source": [
    "#dfm = dfm.loc[:, dfm.eq(\"\").mean().le(.5)]"
   ]
  },
  {
   "cell_type": "code",
   "execution_count": null,
   "metadata": {},
   "outputs": [
    {
     "data": {
      "text/plain": [
       "(68258, 438)"
      ]
     },
     "execution_count": 38,
     "metadata": {},
     "output_type": "execute_result"
    }
   ],
   "source": [
    "dfd.shape"
   ]
  },
  {
   "cell_type": "code",
   "execution_count": null,
   "metadata": {},
   "outputs": [],
   "source": [
    "#Fill na values with mean\n",
    "dff = dfm.where(pd.notna(dfm), dfm.mean(), axis='columns')"
   ]
  },
  {
   "cell_type": "code",
   "execution_count": null,
   "metadata": {},
   "outputs": [],
   "source": [
    "#dff=dfm.apply(lambda x: x.fillna(x.mean()),axis=0)\n",
    "#dff=dfm.fillna(0, inplace=True)"
   ]
  },
  {
   "cell_type": "code",
   "execution_count": null,
   "metadata": {},
   "outputs": [],
   "source": [
    "#dff.TotalFatalCount"
   ]
  },
  {
   "cell_type": "code",
   "execution_count": null,
   "metadata": {},
   "outputs": [],
   "source": [
    "#Remove columns with 0\n",
    "#r_0 = dff.loc[:, (dff != 0).any(axis=0)]"
   ]
  },
  {
   "cell_type": "code",
   "execution_count": null,
   "metadata": {},
   "outputs": [],
   "source": [
    "#dff_ = dff.sort_values('OccID', ascending = False)\n"
   ]
  },
  {
   "cell_type": "code",
   "execution_count": null,
   "metadata": {},
   "outputs": [],
   "source": [
    "dff.shape"
   ]
  },
  {
   "cell_type": "code",
   "execution_count": null,
   "metadata": {},
   "outputs": [],
   "source": [
    "dff.apply(pd.to_numeric, errors = 'ignore').info()"
   ]
  },
  {
   "cell_type": "code",
   "execution_count": null,
   "metadata": {},
   "outputs": [],
   "source": [
    "dff = dff.drop_duplicates(subset = ['OccNo_x'])\n",
    "#dff.dtypes"
   ]
  },
  {
   "cell_type": "code",
   "execution_count": null,
   "metadata": {},
   "outputs": [],
   "source": [
    "#Find columns with missing values\n",
    "#null_columns=dfc_.columns[dfc_.isnull().any()]\n",
    "#dfc_[null_columns].isnull().sum()"
   ]
  },
  {
   "cell_type": "code",
   "execution_count": null,
   "metadata": {},
   "outputs": [],
   "source": [
    "dff.nunique()"
   ]
  },
  {
   "cell_type": "code",
   "execution_count": null,
   "metadata": {},
   "outputs": [],
   "source": [
    "dff.shape"
   ]
  },
  {
   "cell_type": "code",
   "execution_count": null,
   "metadata": {},
   "outputs": [],
   "source": [
    "#Remove columns ending with Fre\n",
    "\n",
    "print (dff.columns[dff.columns.str.endswith('Fre')])"
   ]
  },
  {
   "cell_type": "code",
   "execution_count": null,
   "metadata": {},
   "outputs": [],
   "source": [
    "# dff_= dff.drop([col for col in dff.columns if 'Fre' in col], axis=1)\n",
    "# dff.shape"
   ]
  },
  {
   "cell_type": "code",
   "execution_count": null,
   "metadata": {},
   "outputs": [],
   "source": [
    "#dff_ = dff.filter(regex=r'^((?!Fre).)*$')\n",
    "dfen = dff.loc[:, ~dff.columns.str.endswith('Fre')]"
   ]
  },
  {
   "cell_type": "code",
   "execution_count": null,
   "metadata": {},
   "outputs": [],
   "source": [
    "#dff_= dff.dropna(axis=1, thresh=int(0.5*len(dff)))"
   ]
  },
  {
   "cell_type": "code",
   "execution_count": null,
   "metadata": {},
   "outputs": [],
   "source": [
    "dfen.head()"
   ]
  },
  {
   "cell_type": "code",
   "execution_count": null,
   "metadata": {},
   "outputs": [],
   "source": [
    "dfen.shape"
   ]
  },
  {
   "cell_type": "code",
   "execution_count": null,
   "metadata": {},
   "outputs": [],
   "source": [
    "#Using a second pass of the filter for French!\n",
    "\n",
    "#dfen = dff.loc[:, ~dff.columns.str.endswith('Fre')]"
   ]
  },
  {
   "cell_type": "code",
   "execution_count": null,
   "metadata": {},
   "outputs": [],
   "source": [
    "#dfen.head()"
   ]
  },
  {
   "cell_type": "code",
   "execution_count": null,
   "metadata": {},
   "outputs": [],
   "source": [
    "#dfen.shape"
   ]
  },
  {
   "cell_type": "code",
   "execution_count": null,
   "metadata": {},
   "outputs": [],
   "source": [
    "dfen.columns"
   ]
  },
  {
   "cell_type": "code",
   "execution_count": null,
   "metadata": {},
   "outputs": [],
   "source": [
    "dfen.apply(pd.to_numeric, errors = 'ignore').info()"
   ]
  },
  {
   "cell_type": "code",
   "execution_count": null,
   "metadata": {},
   "outputs": [],
   "source": [
    "dfen.TotalFatalCount"
   ]
  },
  {
   "cell_type": "code",
   "execution_count": null,
   "metadata": {},
   "outputs": [],
   "source": [
    "dfen.shape"
   ]
  },
  {
   "cell_type": "code",
   "execution_count": null,
   "metadata": {},
   "outputs": [],
   "source": [
    "#Finding data completeness\n",
    "#msno.bar(dfen)"
   ]
  },
  {
   "cell_type": "code",
   "execution_count": null,
   "metadata": {},
   "outputs": [],
   "source": [
    "dfen.isnull().sum().sum()"
   ]
  },
  {
   "cell_type": "code",
   "execution_count": null,
   "metadata": {},
   "outputs": [],
   "source": [
    "#pip install --upgrade setuptools"
   ]
  },
  {
   "cell_type": "code",
   "execution_count": null,
   "metadata": {},
   "outputs": [],
   "source": [
    "dfen.info()"
   ]
  },
  {
   "cell_type": "code",
   "execution_count": null,
   "metadata": {},
   "outputs": [],
   "source": [
    "Long = dfen.Longitude * -1"
   ]
  },
  {
   "cell_type": "code",
   "execution_count": null,
   "metadata": {},
   "outputs": [],
   "source": [
    "sns.jointplot(x=Long.values, y=dfen.Latitude.values, ratio = 10)\n",
    "plt.title('Lat and Longs')"
   ]
  },
  {
   "cell_type": "code",
   "execution_count": null,
   "metadata": {
    "scrolled": true
   },
   "outputs": [],
   "source": [
    "dfen.sample(20)"
   ]
  },
  {
   "cell_type": "code",
   "execution_count": null,
   "metadata": {},
   "outputs": [],
   "source": [
    "dfen['OccDate'] = pd.to_datetime(dfen['OccDate'])\n",
    "dfen.OccDate"
   ]
  },
  {
   "cell_type": "code",
   "execution_count": null,
   "metadata": {},
   "outputs": [],
   "source": [
    "dfen.describe()"
   ]
  },
  {
   "cell_type": "code",
   "execution_count": null,
   "metadata": {},
   "outputs": [],
   "source": [
    "dfen_ = pd.to_datetime(dfen['OccDate'], errors='coerce')\n"
   ]
  },
  {
   "cell_type": "code",
   "execution_count": null,
   "metadata": {},
   "outputs": [],
   "source": [
    "dfen.OccDate.dt.year"
   ]
  },
  {
   "cell_type": "code",
   "execution_count": null,
   "metadata": {},
   "outputs": [],
   "source": [
    "#importing plotly and cufflinks in offline mode\n",
    "import plotly.plotly as py\n",
    "import cufflinks as cf\n",
    "import plotly.graph_objs as go\n",
    "import plotly.figure_factory as ff\n",
    "from plotly.offline import download_plotlyjs\n",
    "from plotly.offline import init_notebook_mode\n",
    "from plotly.offline import plot, iplot\n",
    "init_notebook_mode(connected=True)\n",
    "cf.go_offline()"
   ]
  },
  {
   "cell_type": "code",
   "execution_count": null,
   "metadata": {},
   "outputs": [],
   "source": [
    "#Removed as there are few occurrences before 1976\n",
    "#dfen.OccDate.dt.year.iplot(kind='histogram', bins=40, theme='white', title='Ocurrences per year')"
   ]
  },
  {
   "cell_type": "code",
   "execution_count": null,
   "metadata": {},
   "outputs": [],
   "source": [
    "#drop prior to 1976\n",
    "old = dfen[(dfen.OccDate.dt.year < 1976)].index\n",
    "dfen.drop(old, inplace=True)"
   ]
  },
  {
   "cell_type": "code",
   "execution_count": null,
   "metadata": {},
   "outputs": [],
   "source": [
    "dfen.OccDate.dt.year.iplot(kind='histogram', bins=50, theme='white', title='Ocurrences per year')"
   ]
  },
  {
   "cell_type": "code",
   "execution_count": null,
   "metadata": {},
   "outputs": [],
   "source": [
    "px.histogram(dfen, x = 'OccDate', y = 'TotalFatalCount', histfunc='sum', color='OrganizationID_DisplayEng')"
   ]
  },
  {
   "cell_type": "code",
   "execution_count": null,
   "metadata": {},
   "outputs": [],
   "source": [
    "# #px.scatter_matrix(dfen, dimensions=[\"OrganizationID_DisplayEng\", \"TotalFatalCount\",\n",
    "#                               \"OperatorTypeID_DisplayEng\", \"AircraftModelID_DisplayEng\"], color = 'OperationTypeID_DisplayEng')"
   ]
  },
  {
   "cell_type": "code",
   "execution_count": null,
   "metadata": {},
   "outputs": [],
   "source": [
    "#dfen.TotalFatalCount"
   ]
  },
  {
   "cell_type": "code",
   "execution_count": null,
   "metadata": {},
   "outputs": [],
   "source": [
    "!pip install jupyterthemes"
   ]
  },
  {
   "cell_type": "code",
   "execution_count": null,
   "metadata": {},
   "outputs": [],
   "source": [
    "!jt -t chesterish"
   ]
  },
  {
   "cell_type": "code",
   "execution_count": null,
   "metadata": {},
   "outputs": [],
   "source": [
    "dfen.corr('pearson')"
   ]
  },
  {
   "cell_type": "code",
   "execution_count": null,
   "metadata": {},
   "outputs": [],
   "source": []
  }
 ],
 "metadata": {
  "kernelspec": {
   "display_name": "Python 3",
   "language": "python",
   "name": "python3"
  },
  "language_info": {
   "codemirror_mode": {
    "name": "ipython",
    "version": 3
   },
   "file_extension": ".py",
   "mimetype": "text/x-python",
   "name": "python",
   "nbconvert_exporter": "python",
   "pygments_lexer": "ipython3",
   "version": "3.6.8"
  }
 },
 "nbformat": 4,
 "nbformat_minor": 2
}
